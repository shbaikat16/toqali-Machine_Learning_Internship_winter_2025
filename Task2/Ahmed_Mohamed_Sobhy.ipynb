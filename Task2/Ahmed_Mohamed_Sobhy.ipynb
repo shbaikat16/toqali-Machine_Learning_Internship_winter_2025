{
 "cells": [
  {
   "cell_type": "markdown",
   "id": "PW5Wl1W1INOe",
   "metadata": {
    "id": "PW5Wl1W1INOe"
   },
   "source": [
    "# Hotel Booking Cancellation Prediction\n",
    "\n"
   ]
  },
  {
   "cell_type": "code",
   "execution_count": 40,
   "id": "4NWebgFDINOf",
   "metadata": {
    "executionInfo": {
     "elapsed": 4579,
     "status": "ok",
     "timestamp": 1739483389050,
     "user": {
      "displayName": "Ahmed Sobhy",
      "userId": "15058163405795448024"
     },
     "user_tz": -120
    },
    "id": "4NWebgFDINOf"
   },
   "outputs": [],
   "source": [
    "import pandas as pd\n",
    "import numpy as np\n",
    "import matplotlib.pyplot as plt\n",
    "import seaborn as sns\n",
    "from sklearn.model_selection import train_test_split\n",
    "from sklearn.linear_model import LogisticRegression\n",
    "from sklearn.metrics import accuracy_score, classification_report, f1_score, confusion_matrix\n",
    "from sklearn.preprocessing import LabelEncoder, StandardScaler\n",
    "from datetime import datetime\n",
    "from scipy.stats import zscore\n",
    "from imblearn.combine import SMOTETomek\n",
    "from sklearn.model_selection import GridSearchCV\n",
    "from sklearn.ensemble import RandomForestClassifier\n",
    "from sklearn.neighbors import KNeighborsClassifier\n",
    "\n",
    "%matplotlib inline"
   ]
  },
  {
   "cell_type": "markdown",
   "id": "EqIKzuQ-6_L5",
   "metadata": {
    "id": "EqIKzuQ-6_L5"
   },
   "source": [
    "## Load & Inspect the Data"
   ]
  },
  {
   "cell_type": "code",
   "execution_count": 41,
   "id": "64OSdmTB7AWu",
   "metadata": {
    "colab": {
     "base_uri": "https://localhost:8080/",
     "height": 1000
    },
    "executionInfo": {
     "elapsed": 10,
     "status": "ok",
     "timestamp": 1739483389050,
     "user": {
      "displayName": "Ahmed Sobhy",
      "userId": "15058163405795448024"
     },
     "user_tz": -120
    },
    "id": "64OSdmTB7AWu",
    "outputId": "c50f2f83-a694-4683-b1af-0bb392eee6ac"
   },
   "outputs": [
    {
     "data": {
      "text/html": [
       "<div>\n",
       "<style scoped>\n",
       "    .dataframe tbody tr th:only-of-type {\n",
       "        vertical-align: middle;\n",
       "    }\n",
       "\n",
       "    .dataframe tbody tr th {\n",
       "        vertical-align: top;\n",
       "    }\n",
       "\n",
       "    .dataframe thead th {\n",
       "        text-align: right;\n",
       "    }\n",
       "</style>\n",
       "<table border=\"1\" class=\"dataframe\">\n",
       "  <thead>\n",
       "    <tr style=\"text-align: right;\">\n",
       "      <th></th>\n",
       "      <th>booking_id</th>\n",
       "      <th>number_of_adults</th>\n",
       "      <th>number_of_children</th>\n",
       "      <th>number_of_weekend_nights</th>\n",
       "      <th>number_of_week_nights</th>\n",
       "      <th>type_of_meal</th>\n",
       "      <th>car_parking_space</th>\n",
       "      <th>room_type</th>\n",
       "      <th>lead_time</th>\n",
       "      <th>market_segment_type</th>\n",
       "      <th>repeated</th>\n",
       "      <th>p-c</th>\n",
       "      <th>p-not-c</th>\n",
       "      <th>average_price</th>\n",
       "      <th>special_requests</th>\n",
       "      <th>date_of_reservation</th>\n",
       "      <th>booking_status</th>\n",
       "    </tr>\n",
       "  </thead>\n",
       "  <tbody>\n",
       "    <tr>\n",
       "      <th>0</th>\n",
       "      <td>INN00001</td>\n",
       "      <td>1</td>\n",
       "      <td>1</td>\n",
       "      <td>2</td>\n",
       "      <td>5</td>\n",
       "      <td>Meal Plan 1</td>\n",
       "      <td>0</td>\n",
       "      <td>Room_Type 1</td>\n",
       "      <td>224</td>\n",
       "      <td>Offline</td>\n",
       "      <td>0</td>\n",
       "      <td>0</td>\n",
       "      <td>0</td>\n",
       "      <td>88.00</td>\n",
       "      <td>0</td>\n",
       "      <td>10/2/2015</td>\n",
       "      <td>Not_Canceled</td>\n",
       "    </tr>\n",
       "    <tr>\n",
       "      <th>1</th>\n",
       "      <td>INN00002</td>\n",
       "      <td>1</td>\n",
       "      <td>0</td>\n",
       "      <td>1</td>\n",
       "      <td>3</td>\n",
       "      <td>Not Selected</td>\n",
       "      <td>0</td>\n",
       "      <td>Room_Type 1</td>\n",
       "      <td>5</td>\n",
       "      <td>Online</td>\n",
       "      <td>0</td>\n",
       "      <td>0</td>\n",
       "      <td>0</td>\n",
       "      <td>106.68</td>\n",
       "      <td>1</td>\n",
       "      <td>11/6/2018</td>\n",
       "      <td>Not_Canceled</td>\n",
       "    </tr>\n",
       "    <tr>\n",
       "      <th>2</th>\n",
       "      <td>INN00003</td>\n",
       "      <td>2</td>\n",
       "      <td>1</td>\n",
       "      <td>1</td>\n",
       "      <td>3</td>\n",
       "      <td>Meal Plan 1</td>\n",
       "      <td>0</td>\n",
       "      <td>Room_Type 1</td>\n",
       "      <td>1</td>\n",
       "      <td>Online</td>\n",
       "      <td>0</td>\n",
       "      <td>0</td>\n",
       "      <td>0</td>\n",
       "      <td>50.00</td>\n",
       "      <td>0</td>\n",
       "      <td>2/28/2018</td>\n",
       "      <td>Canceled</td>\n",
       "    </tr>\n",
       "    <tr>\n",
       "      <th>3</th>\n",
       "      <td>INN00004</td>\n",
       "      <td>1</td>\n",
       "      <td>0</td>\n",
       "      <td>0</td>\n",
       "      <td>2</td>\n",
       "      <td>Meal Plan 1</td>\n",
       "      <td>0</td>\n",
       "      <td>Room_Type 1</td>\n",
       "      <td>211</td>\n",
       "      <td>Online</td>\n",
       "      <td>0</td>\n",
       "      <td>0</td>\n",
       "      <td>0</td>\n",
       "      <td>100.00</td>\n",
       "      <td>1</td>\n",
       "      <td>5/20/2017</td>\n",
       "      <td>Canceled</td>\n",
       "    </tr>\n",
       "    <tr>\n",
       "      <th>4</th>\n",
       "      <td>INN00005</td>\n",
       "      <td>1</td>\n",
       "      <td>0</td>\n",
       "      <td>1</td>\n",
       "      <td>2</td>\n",
       "      <td>Not Selected</td>\n",
       "      <td>0</td>\n",
       "      <td>Room_Type 1</td>\n",
       "      <td>48</td>\n",
       "      <td>Online</td>\n",
       "      <td>0</td>\n",
       "      <td>0</td>\n",
       "      <td>0</td>\n",
       "      <td>77.00</td>\n",
       "      <td>0</td>\n",
       "      <td>4/11/2018</td>\n",
       "      <td>Canceled</td>\n",
       "    </tr>\n",
       "  </tbody>\n",
       "</table>\n",
       "</div>"
      ],
      "text/plain": [
       "  booking_id  number_of_adults  number_of_children  number_of_weekend_nights  \\\n",
       "0   INN00001                 1                   1                         2   \n",
       "1   INN00002                 1                   0                         1   \n",
       "2   INN00003                 2                   1                         1   \n",
       "3   INN00004                 1                   0                         0   \n",
       "4   INN00005                 1                   0                         1   \n",
       "\n",
       "   number_of_week_nights  type_of_meal  car_parking_space    room_type  \\\n",
       "0                      5   Meal Plan 1                  0  Room_Type 1   \n",
       "1                      3  Not Selected                  0  Room_Type 1   \n",
       "2                      3   Meal Plan 1                  0  Room_Type 1   \n",
       "3                      2   Meal Plan 1                  0  Room_Type 1   \n",
       "4                      2  Not Selected                  0  Room_Type 1   \n",
       "\n",
       "   lead_time market_segment_type  repeated  p-c  p-not-c  average_price  \\\n",
       "0        224             Offline         0    0        0          88.00   \n",
       "1          5              Online         0    0        0         106.68   \n",
       "2          1              Online         0    0        0          50.00   \n",
       "3        211              Online         0    0        0         100.00   \n",
       "4         48              Online         0    0        0          77.00   \n",
       "\n",
       "   special_requests date_of_reservation booking_status  \n",
       "0                 0           10/2/2015   Not_Canceled  \n",
       "1                 1           11/6/2018   Not_Canceled  \n",
       "2                 0           2/28/2018       Canceled  \n",
       "3                 1           5/20/2017       Canceled  \n",
       "4                 0           4/11/2018       Canceled  "
      ]
     },
     "metadata": {},
     "output_type": "display_data"
    },
    {
     "name": "stdout",
     "output_type": "stream",
     "text": [
      "Dataset shape: (36285, 17)\n",
      "<class 'pandas.core.frame.DataFrame'>\n",
      "RangeIndex: 36285 entries, 0 to 36284\n",
      "Data columns (total 17 columns):\n",
      " #   Column                    Non-Null Count  Dtype  \n",
      "---  ------                    --------------  -----  \n",
      " 0   booking_id                36285 non-null  object \n",
      " 1   number_of_adults          36285 non-null  int64  \n",
      " 2   number_of_children        36285 non-null  int64  \n",
      " 3   number_of_weekend_nights  36285 non-null  int64  \n",
      " 4   number_of_week_nights     36285 non-null  int64  \n",
      " 5   type_of_meal              36285 non-null  object \n",
      " 6   car_parking_space         36285 non-null  int64  \n",
      " 7   room_type                 36285 non-null  object \n",
      " 8   lead_time                 36285 non-null  int64  \n",
      " 9   market_segment_type       36285 non-null  object \n",
      " 10  repeated                  36285 non-null  int64  \n",
      " 11  p-c                       36285 non-null  int64  \n",
      " 12  p-not-c                   36285 non-null  int64  \n",
      " 13  average_price             36285 non-null  float64\n",
      " 14  special_requests          36285 non-null  int64  \n",
      " 15  date_of_reservation       36285 non-null  object \n",
      " 16  booking_status            36285 non-null  object \n",
      "dtypes: float64(1), int64(10), object(6)\n",
      "memory usage: 4.7+ MB\n",
      "\n",
      "Missing Values:\n",
      "booking_id                  0\n",
      "number_of_adults            0\n",
      "number_of_children          0\n",
      "number_of_weekend_nights    0\n",
      "number_of_week_nights       0\n",
      "type_of_meal                0\n",
      "car_parking_space           0\n",
      "room_type                   0\n",
      "lead_time                   0\n",
      "market_segment_type         0\n",
      "repeated                    0\n",
      "p-c                         0\n",
      "p-not-c                     0\n",
      "average_price               0\n",
      "special_requests            0\n",
      "date_of_reservation         0\n",
      "booking_status              0\n",
      "dtype: int64\n"
     ]
    }
   ],
   "source": [
    "df = pd.read_csv('dataset.csv')\n",
    "\n",
    "df.columns = df.columns.str.strip().str.lower().str.replace(' ', '_')\n",
    "\n",
    "display(df.head())\n",
    "\n",
    "print(f\"Dataset shape: {df.shape}\")\n",
    "df.info()\n",
    "\n",
    "print(\"\\nMissing Values:\")\n",
    "print(df.isnull().sum())"
   ]
  },
  {
   "cell_type": "markdown",
   "id": "gvzVnHQQ7ONl",
   "metadata": {
    "id": "gvzVnHQQ7ONl"
   },
   "source": [
    "## Data Cleaning"
   ]
  },
  {
   "cell_type": "code",
   "execution_count": 43,
   "id": "30madgN67Q5P",
   "metadata": {
    "colab": {
     "base_uri": "https://localhost:8080/",
     "height": 469
    },
    "executionInfo": {
     "elapsed": 9,
     "status": "ok",
     "timestamp": 1739483389050,
     "user": {
      "displayName": "Ahmed Sobhy",
      "userId": "15058163405795448024"
     },
     "user_tz": -120
    },
    "id": "30madgN67Q5P",
    "outputId": "b0b00faa-71e8-41d6-c9c4-0b7d1e5d9825"
   },
   "outputs": [
    {
     "name": "stdout",
     "output_type": "stream",
     "text": [
      "Missing dates before filling: 0\n",
      "Missing dates after filling: 0\n",
      "Converted date_of_reservation values:\n"
     ]
    },
    {
     "data": {
      "text/plain": [
       "0   2015-10-02\n",
       "1   2018-11-06\n",
       "2   2018-02-28\n",
       "3   2017-05-20\n",
       "4   2018-04-11\n",
       "Name: date_of_reservation, dtype: datetime64[ns]"
      ]
     },
     "metadata": {},
     "output_type": "display_data"
    }
   ],
   "source": [
    "df['date_of_reservation'] = pd.to_datetime(df['date_of_reservation'], errors='coerce')\n",
    "\n",
    "print(\"Missing dates before filling:\", df['date_of_reservation'].isnull().sum())\n",
    "median_date = df['date_of_reservation'].median()\n",
    "df['date_of_reservation'] = df['date_of_reservation'].fillna(median_date)\n",
    "print(\"Missing dates after filling:\", df['date_of_reservation'].isnull().sum())\n",
    "\n",
    "print('Converted date_of_reservation values:')\n",
    "display(df['date_of_reservation'].head())"
   ]
  },
  {
   "cell_type": "markdown",
   "id": "7Y2q58Kw8GfA",
   "metadata": {
    "id": "7Y2q58Kw8GfA"
   },
   "source": [
    "# Feature Engineering"
   ]
  },
  {
   "cell_type": "code",
   "execution_count": 25,
   "id": "KsUYMY448IP1",
   "metadata": {
    "colab": {
     "base_uri": "https://localhost:8080/",
     "height": 224
    },
    "executionInfo": {
     "elapsed": 7,
     "status": "ok",
     "timestamp": 1739483389050,
     "user": {
      "displayName": "Ahmed Sobhy",
      "userId": "15058163405795448024"
     },
     "user_tz": -120
    },
    "id": "KsUYMY448IP1",
    "outputId": "ca22ec2e-edd4-45da-99eb-31e9f669bb7f"
   },
   "outputs": [
    {
     "data": {
      "text/html": [
       "<div>\n",
       "<style scoped>\n",
       "    .dataframe tbody tr th:only-of-type {\n",
       "        vertical-align: middle;\n",
       "    }\n",
       "\n",
       "    .dataframe tbody tr th {\n",
       "        vertical-align: top;\n",
       "    }\n",
       "\n",
       "    .dataframe thead th {\n",
       "        text-align: right;\n",
       "    }\n",
       "</style>\n",
       "<table border=\"1\" class=\"dataframe\">\n",
       "  <thead>\n",
       "    <tr style=\"text-align: right;\">\n",
       "      <th></th>\n",
       "      <th>car_parking_space</th>\n",
       "      <th>room_type</th>\n",
       "      <th>lead_time</th>\n",
       "      <th>market_segment_type</th>\n",
       "      <th>repeated</th>\n",
       "      <th>p-c</th>\n",
       "      <th>p-not-c</th>\n",
       "      <th>average_price</th>\n",
       "      <th>special_requests</th>\n",
       "      <th>booking_status</th>\n",
       "      <th>reservation_month</th>\n",
       "      <th>guest_type</th>\n",
       "      <th>total_guests</th>\n",
       "      <th>total_nights</th>\n",
       "    </tr>\n",
       "  </thead>\n",
       "  <tbody>\n",
       "    <tr>\n",
       "      <th>0</th>\n",
       "      <td>0</td>\n",
       "      <td>Room_Type 1</td>\n",
       "      <td>224</td>\n",
       "      <td>Offline</td>\n",
       "      <td>0</td>\n",
       "      <td>0</td>\n",
       "      <td>0</td>\n",
       "      <td>88.00</td>\n",
       "      <td>0</td>\n",
       "      <td>Not_Canceled</td>\n",
       "      <td>10</td>\n",
       "      <td>Family</td>\n",
       "      <td>2</td>\n",
       "      <td>7</td>\n",
       "    </tr>\n",
       "    <tr>\n",
       "      <th>1</th>\n",
       "      <td>0</td>\n",
       "      <td>Room_Type 1</td>\n",
       "      <td>5</td>\n",
       "      <td>Online</td>\n",
       "      <td>0</td>\n",
       "      <td>0</td>\n",
       "      <td>0</td>\n",
       "      <td>106.68</td>\n",
       "      <td>1</td>\n",
       "      <td>Not_Canceled</td>\n",
       "      <td>11</td>\n",
       "      <td>Singles</td>\n",
       "      <td>1</td>\n",
       "      <td>4</td>\n",
       "    </tr>\n",
       "    <tr>\n",
       "      <th>2</th>\n",
       "      <td>0</td>\n",
       "      <td>Room_Type 1</td>\n",
       "      <td>1</td>\n",
       "      <td>Online</td>\n",
       "      <td>0</td>\n",
       "      <td>0</td>\n",
       "      <td>0</td>\n",
       "      <td>50.00</td>\n",
       "      <td>0</td>\n",
       "      <td>Canceled</td>\n",
       "      <td>2</td>\n",
       "      <td>Family</td>\n",
       "      <td>3</td>\n",
       "      <td>4</td>\n",
       "    </tr>\n",
       "    <tr>\n",
       "      <th>3</th>\n",
       "      <td>0</td>\n",
       "      <td>Room_Type 1</td>\n",
       "      <td>211</td>\n",
       "      <td>Online</td>\n",
       "      <td>0</td>\n",
       "      <td>0</td>\n",
       "      <td>0</td>\n",
       "      <td>100.00</td>\n",
       "      <td>1</td>\n",
       "      <td>Canceled</td>\n",
       "      <td>5</td>\n",
       "      <td>Singles</td>\n",
       "      <td>1</td>\n",
       "      <td>2</td>\n",
       "    </tr>\n",
       "    <tr>\n",
       "      <th>4</th>\n",
       "      <td>0</td>\n",
       "      <td>Room_Type 1</td>\n",
       "      <td>48</td>\n",
       "      <td>Online</td>\n",
       "      <td>0</td>\n",
       "      <td>0</td>\n",
       "      <td>0</td>\n",
       "      <td>77.00</td>\n",
       "      <td>0</td>\n",
       "      <td>Canceled</td>\n",
       "      <td>4</td>\n",
       "      <td>Singles</td>\n",
       "      <td>1</td>\n",
       "      <td>3</td>\n",
       "    </tr>\n",
       "  </tbody>\n",
       "</table>\n",
       "</div>"
      ],
      "text/plain": [
       "   car_parking_space    room_type  lead_time market_segment_type  repeated  \\\n",
       "0                  0  Room_Type 1        224             Offline         0   \n",
       "1                  0  Room_Type 1          5              Online         0   \n",
       "2                  0  Room_Type 1          1              Online         0   \n",
       "3                  0  Room_Type 1        211              Online         0   \n",
       "4                  0  Room_Type 1         48              Online         0   \n",
       "\n",
       "   p-c  p-not-c  average_price  special_requests booking_status  \\\n",
       "0    0        0          88.00                 0   Not_Canceled   \n",
       "1    0        0         106.68                 1   Not_Canceled   \n",
       "2    0        0          50.00                 0       Canceled   \n",
       "3    0        0         100.00                 1       Canceled   \n",
       "4    0        0          77.00                 0       Canceled   \n",
       "\n",
       "   reservation_month guest_type  total_guests  total_nights  \n",
       "0                 10     Family             2             7  \n",
       "1                 11    Singles             1             4  \n",
       "2                  2     Family             3             4  \n",
       "3                  5    Singles             1             2  \n",
       "4                  4    Singles             1             3  "
      ]
     },
     "metadata": {},
     "output_type": "display_data"
    },
    {
     "data": {
      "text/plain": [
       "(36285, 14)"
      ]
     },
     "execution_count": 25,
     "metadata": {},
     "output_type": "execute_result"
    }
   ],
   "source": [
    "# Convert date_of_reservation to month only\n",
    "df['date_of_reservation'] = pd.to_datetime(df['date_of_reservation'], format='%Y-%m-%d')\n",
    "df['reservation_month'] = df['date_of_reservation'].dt.month\n",
    "df.drop('date_of_reservation', axis=1, inplace=True)\n",
    "\n",
    "# Classify guest type and get total number\n",
    "def classify_guests(row):\n",
    "    if row['number_of_children'] > 0:\n",
    "        return 'Family'\n",
    "    elif row['number_of_adults'] == 2 and row['number_of_children'] == 0:\n",
    "        return 'Couples'\n",
    "    elif row['number_of_adults'] == 1 and row['number_of_children'] == 0:\n",
    "        return 'Singles'\n",
    "    else:\n",
    "        return 'Groups'\n",
    "\n",
    "df['guest_type'] = df.apply(classify_guests, axis=1)\n",
    "df['total_guests'] = df['number_of_adults'] + df['number_of_children']\n",
    "df.drop('number_of_adults', axis=1, inplace=True)\n",
    "df.drop('number_of_children', axis=1, inplace=True)\n",
    "\n",
    "# Get total number of nights\n",
    "df['total_nights'] = df['number_of_weekend_nights'] + df['number_of_week_nights']\n",
    "df.drop('number_of_weekend_nights', axis=1, inplace=True)\n",
    "df.drop('number_of_week_nights', axis=1, inplace=True)\n",
    "\n",
    "# Irrelevant columns\n",
    "df.drop('booking_id', axis=1, inplace=True)\n",
    "df.drop('type_of_meal', axis=1, inplace=True)\n",
    "\n",
    "display(df.head())\n",
    "df.shape"
   ]
  },
  {
   "cell_type": "markdown",
   "id": "riuWDE1jINOi",
   "metadata": {
    "id": "riuWDE1jINOi"
   },
   "source": [
    "## Preprocessing"
   ]
  },
  {
   "cell_type": "code",
   "execution_count": 26,
   "id": "SMKJevZWINOi",
   "metadata": {
    "colab": {
     "base_uri": "https://localhost:8080/",
     "height": 224
    },
    "executionInfo": {
     "elapsed": 6,
     "status": "ok",
     "timestamp": 1739483389050,
     "user": {
      "displayName": "Ahmed Sobhy",
      "userId": "15058163405795448024"
     },
     "user_tz": -120
    },
    "id": "SMKJevZWINOi",
    "outputId": "e84f9f78-7947-4788-fea7-5e25e3370843"
   },
   "outputs": [
    {
     "data": {
      "text/html": [
       "<div>\n",
       "<style scoped>\n",
       "    .dataframe tbody tr th:only-of-type {\n",
       "        vertical-align: middle;\n",
       "    }\n",
       "\n",
       "    .dataframe tbody tr th {\n",
       "        vertical-align: top;\n",
       "    }\n",
       "\n",
       "    .dataframe thead th {\n",
       "        text-align: right;\n",
       "    }\n",
       "</style>\n",
       "<table border=\"1\" class=\"dataframe\">\n",
       "  <thead>\n",
       "    <tr style=\"text-align: right;\">\n",
       "      <th></th>\n",
       "      <th>car_parking_space</th>\n",
       "      <th>room_type</th>\n",
       "      <th>lead_time</th>\n",
       "      <th>market_segment_type</th>\n",
       "      <th>repeated</th>\n",
       "      <th>p-c</th>\n",
       "      <th>p-not-c</th>\n",
       "      <th>average_price</th>\n",
       "      <th>special_requests</th>\n",
       "      <th>booking_status</th>\n",
       "      <th>reservation_month</th>\n",
       "      <th>guest_type</th>\n",
       "      <th>total_guests</th>\n",
       "      <th>total_nights</th>\n",
       "    </tr>\n",
       "  </thead>\n",
       "  <tbody>\n",
       "    <tr>\n",
       "      <th>0</th>\n",
       "      <td>0</td>\n",
       "      <td>0</td>\n",
       "      <td>1.614661</td>\n",
       "      <td>3</td>\n",
       "      <td>0</td>\n",
       "      <td>-0.063385</td>\n",
       "      <td>-0.087444</td>\n",
       "      <td>-0.439538</td>\n",
       "      <td>-0.788212</td>\n",
       "      <td>1</td>\n",
       "      <td>1</td>\n",
       "      <td>1</td>\n",
       "      <td>0.076574</td>\n",
       "      <td>2.231109</td>\n",
       "    </tr>\n",
       "    <tr>\n",
       "      <th>1</th>\n",
       "      <td>0</td>\n",
       "      <td>0</td>\n",
       "      <td>-0.933699</td>\n",
       "      <td>4</td>\n",
       "      <td>0</td>\n",
       "      <td>-0.063385</td>\n",
       "      <td>-0.087444</td>\n",
       "      <td>0.092868</td>\n",
       "      <td>0.483646</td>\n",
       "      <td>1</td>\n",
       "      <td>2</td>\n",
       "      <td>3</td>\n",
       "      <td>-1.461055</td>\n",
       "      <td>0.551354</td>\n",
       "    </tr>\n",
       "    <tr>\n",
       "      <th>2</th>\n",
       "      <td>0</td>\n",
       "      <td>0</td>\n",
       "      <td>-0.980244</td>\n",
       "      <td>4</td>\n",
       "      <td>0</td>\n",
       "      <td>-0.063385</td>\n",
       "      <td>-0.087444</td>\n",
       "      <td>-1.522592</td>\n",
       "      <td>-0.788212</td>\n",
       "      <td>0</td>\n",
       "      <td>4</td>\n",
       "      <td>1</td>\n",
       "      <td>1.614204</td>\n",
       "      <td>0.551354</td>\n",
       "    </tr>\n",
       "    <tr>\n",
       "      <th>3</th>\n",
       "      <td>0</td>\n",
       "      <td>0</td>\n",
       "      <td>1.463389</td>\n",
       "      <td>4</td>\n",
       "      <td>0</td>\n",
       "      <td>-0.063385</td>\n",
       "      <td>-0.087444</td>\n",
       "      <td>-0.097521</td>\n",
       "      <td>0.483646</td>\n",
       "      <td>0</td>\n",
       "      <td>7</td>\n",
       "      <td>3</td>\n",
       "      <td>-1.461055</td>\n",
       "      <td>-0.568483</td>\n",
       "    </tr>\n",
       "    <tr>\n",
       "      <th>4</th>\n",
       "      <td>0</td>\n",
       "      <td>0</td>\n",
       "      <td>-0.433336</td>\n",
       "      <td>4</td>\n",
       "      <td>0</td>\n",
       "      <td>-0.063385</td>\n",
       "      <td>-0.087444</td>\n",
       "      <td>-0.753054</td>\n",
       "      <td>-0.788212</td>\n",
       "      <td>0</td>\n",
       "      <td>6</td>\n",
       "      <td>3</td>\n",
       "      <td>-1.461055</td>\n",
       "      <td>-0.008564</td>\n",
       "    </tr>\n",
       "  </tbody>\n",
       "</table>\n",
       "</div>"
      ],
      "text/plain": [
       "   car_parking_space  room_type  lead_time  market_segment_type  repeated  \\\n",
       "0                  0          0   1.614661                    3         0   \n",
       "1                  0          0  -0.933699                    4         0   \n",
       "2                  0          0  -0.980244                    4         0   \n",
       "3                  0          0   1.463389                    4         0   \n",
       "4                  0          0  -0.433336                    4         0   \n",
       "\n",
       "        p-c   p-not-c  average_price  special_requests  booking_status  \\\n",
       "0 -0.063385 -0.087444      -0.439538         -0.788212               1   \n",
       "1 -0.063385 -0.087444       0.092868          0.483646               1   \n",
       "2 -0.063385 -0.087444      -1.522592         -0.788212               0   \n",
       "3 -0.063385 -0.087444      -0.097521          0.483646               0   \n",
       "4 -0.063385 -0.087444      -0.753054         -0.788212               0   \n",
       "\n",
       "   reservation_month  guest_type  total_guests  total_nights  \n",
       "0                  1           1      0.076574      2.231109  \n",
       "1                  2           3     -1.461055      0.551354  \n",
       "2                  4           1      1.614204      0.551354  \n",
       "3                  7           3     -1.461055     -0.568483  \n",
       "4                  6           3     -1.461055     -0.008564  "
      ]
     },
     "metadata": {},
     "output_type": "display_data"
    },
    {
     "data": {
      "text/plain": [
       "(36285, 14)"
      ]
     },
     "execution_count": 26,
     "metadata": {},
     "output_type": "execute_result"
    }
   ],
   "source": [
    "df['repeated'] = df['repeated'].astype(str)\n",
    "df['car_parking_space'] = df['car_parking_space'].astype(str)\n",
    "df['reservation_month'] = df['reservation_month'].astype(str)\n",
    "\n",
    "numeric_cols = df.select_dtypes(include=[np.number]).columns\n",
    "categorical_cols = df.select_dtypes(include=['object']).columns\n",
    "\n",
    "# Remove duplicates\n",
    "# df.drop_duplicates(inplace=True)\n",
    "\n",
    "# Standardization\n",
    "scaler = StandardScaler()\n",
    "df[numeric_cols] = scaler.fit_transform(df[numeric_cols])\n",
    "\n",
    "# Encoding\n",
    "for col in categorical_cols:\n",
    "  le = LabelEncoder()\n",
    "  df[col] = le.fit_transform(df[col])\n",
    "\n",
    "display(df.head())\n",
    "df.shape"
   ]
  },
  {
   "cell_type": "markdown",
   "id": "H8pd4xVgD1R_",
   "metadata": {
    "id": "H8pd4xVgD1R_"
   },
   "source": [
    "# Handling Outliers"
   ]
  },
  {
   "cell_type": "code",
   "execution_count": 27,
   "id": "OA2-5aeiD15_",
   "metadata": {
    "colab": {
     "base_uri": "https://localhost:8080/"
    },
    "executionInfo": {
     "elapsed": 6,
     "status": "ok",
     "timestamp": 1739483389050,
     "user": {
      "displayName": "Ahmed Sobhy",
      "userId": "15058163405795448024"
     },
     "user_tz": -120
    },
    "id": "OA2-5aeiD15_",
    "outputId": "97fdc279-ea35-4502-f5a0-0d21f44346b0"
   },
   "outputs": [
    {
     "data": {
      "text/plain": [
       "(33469, 14)"
      ]
     },
     "execution_count": 27,
     "metadata": {},
     "output_type": "execute_result"
    }
   ],
   "source": [
    "z_scores = np.abs(zscore(df[numeric_cols]))\n",
    "mask = (z_scores < 3).all(axis=1)\n",
    "df = df[mask]\n",
    "\n",
    "df.shape"
   ]
  },
  {
   "cell_type": "markdown",
   "id": "PtSHHvym9BWt",
   "metadata": {
    "id": "PtSHHvym9BWt"
   },
   "source": [
    "# Train-Test Split"
   ]
  },
  {
   "cell_type": "code",
   "execution_count": 28,
   "id": "1M98b7A39DQW",
   "metadata": {
    "colab": {
     "base_uri": "https://localhost:8080/"
    },
    "executionInfo": {
     "elapsed": 5,
     "status": "ok",
     "timestamp": 1739483389050,
     "user": {
      "displayName": "Ahmed Sobhy",
      "userId": "15058163405795448024"
     },
     "user_tz": -120
    },
    "id": "1M98b7A39DQW",
    "outputId": "5d5d1892-c66c-4004-a123-7586cbce1f7f"
   },
   "outputs": [
    {
     "name": "stdout",
     "output_type": "stream",
     "text": [
      "\n",
      "Training set shape: (26775, 13)\n",
      "Testing set shape: (6694, 13)\n"
     ]
    }
   ],
   "source": [
    "X = df.drop('booking_status', axis=1)\n",
    "y = df['booking_status']\n",
    "\n",
    "X_train, X_test, y_train, y_test = train_test_split(X, y, test_size=0.2, random_state=42)\n",
    "\n",
    "print(f\"\\nTraining set shape: {X_train.shape}\")\n",
    "print(f\"Testing set shape: {X_test.shape}\")"
   ]
  },
  {
   "cell_type": "markdown",
   "id": "AED00LNA9Rgl",
   "metadata": {
    "id": "AED00LNA9Rgl"
   },
   "source": [
    "# Logistic Regression Model"
   ]
  },
  {
   "cell_type": "code",
   "execution_count": 29,
   "id": "hCNSNKKj9Tyk",
   "metadata": {
    "colab": {
     "base_uri": "https://localhost:8080/",
     "height": 631
    },
    "executionInfo": {
     "elapsed": 1107,
     "status": "ok",
     "timestamp": 1739483390152,
     "user": {
      "displayName": "Ahmed Sobhy",
      "userId": "15058163405795448024"
     },
     "user_tz": -120
    },
    "id": "hCNSNKKj9Tyk",
    "outputId": "9fb0be8a-4d59-4d83-e075-777d61f48e41"
   },
   "outputs": [
    {
     "name": "stdout",
     "output_type": "stream",
     "text": [
      "Best Parameters: {'C': 0.1, 'penalty': 'l1', 'solver': 'saga'}\n",
      "\n",
      "Model Accuracy: 0.8015\n",
      "\n",
      "Classification Report:\n",
      "              precision    recall  f1-score   support\n",
      "\n",
      "           0       0.74      0.59      0.66      2169\n",
      "           1       0.82      0.90      0.86      4525\n",
      "\n",
      "    accuracy                           0.80      6694\n",
      "   macro avg       0.78      0.75      0.76      6694\n",
      "weighted avg       0.80      0.80      0.79      6694\n",
      "\n",
      "F1 Score: 0.8598840274117027\n"
     ]
    },
    {
     "data": {
      "image/png": "[encoded data removed]",
      "text/plain": [
       "<Figure size 360x288 with 2 Axes>"
      ]
     },
     "metadata": {
      "needs_background": "light"
     },
     "output_type": "display_data"
    }
   ],
   "source": [
    "param_grid = {\n",
    "  'C': [0.01, 0.1, 1, 10, 100],\n",
    "  'penalty': ['l1', 'l2'],\n",
    "  'solver': ['liblinear', 'saga']\n",
    "}\n",
    "\n",
    "grid_search = GridSearchCV(LogisticRegression(max_iter=10000), param_grid, cv=5, scoring='accuracy', n_jobs=-1)\n",
    "grid_search.fit(X_train, y_train)\n",
    "\n",
    "print(\"Best Parameters:\", grid_search.best_params_)\n",
    "model = grid_search.best_estimator_\n",
    "\n",
    "y_pred = model.predict(X_test)\n",
    "\n",
    "accuracy = accuracy_score(y_test, y_pred)\n",
    "print(f\"\\nModel Accuracy: {accuracy:.4f}\")\n",
    "\n",
    "print(\"\\nClassification Report:\")\n",
    "print(classification_report(y_test, y_pred))\n",
    "\n",
    "print(\"F1 Score:\", f1_score(y_test, y_pred))\n",
    "\n",
    "cm = confusion_matrix(y_test, y_pred)\n",
    "plt.figure(figsize=(5,4))\n",
    "sns.heatmap(cm, annot=True, fmt=\"d\", cmap=\"Blues\", xticklabels=[\"Not Canceled\", \"Canceled\"], yticklabels=[\"Not Canceled\", \"Canceled\"])\n",
    "plt.xlabel(\"Predicted Label\")\n",
    "plt.ylabel(\"True Label\")\n",
    "plt.show()"
   ]
  },
  {
   "cell_type": "markdown",
   "id": "nHhJs3wgG_XW",
   "metadata": {
    "id": "nHhJs3wgG_XW"
   },
   "source": [
    "# Random Forest Model"
   ]
  },
  {
   "cell_type": "code",
   "execution_count": 30,
   "id": "enEI2GEfG_9s",
   "metadata": {
    "id": "enEI2GEfG_9s"
   },
   "outputs": [
    {
     "name": "stdout",
     "output_type": "stream",
     "text": [
      "Best Parameters: {'bootstrap': True, 'max_depth': 20, 'max_features': 'sqrt', 'min_samples_leaf': 1, 'min_samples_split': 2, 'n_estimators': 200}\n",
      "\n",
      "Model Accuracy: 0.8972\n",
      "\n",
      "Classification Report:\n",
      "              precision    recall  f1-score   support\n",
      "\n",
      "           0       0.85      0.83      0.84      2169\n",
      "           1       0.92      0.93      0.92      4525\n",
      "\n",
      "    accuracy                           0.90      6694\n",
      "   macro avg       0.89      0.88      0.88      6694\n",
      "weighted avg       0.90      0.90      0.90      6694\n",
      "\n",
      "F1 Score: 0.9245614035087719\n"
     ]
    },
    {
     "data": {
      "image/png": "[encoded data removed]",
      "text/plain": [
       "<Figure size 360x288 with 2 Axes>"
      ]
     },
     "metadata": {
      "needs_background": "light"
     },
     "output_type": "display_data"
    }
   ],
   "source": [
    "param_grid = {\n",
    "    'n_estimators': [100, 200, 300],\n",
    "    'max_depth': [None, 10, 20, 30],\n",
    "    'min_samples_split': [2, 5, 10],\n",
    "    'min_samples_leaf': [1, 2, 4],\n",
    "    'max_features': ['sqrt', 'log2'],\n",
    "    'bootstrap': [True, False]\n",
    "}\n",
    "\n",
    "grid_search = GridSearchCV(RandomForestClassifier(class_weight='balanced', random_state=42), param_grid, cv=5, scoring='accuracy', n_jobs=-1)\n",
    "grid_search.fit(X_train, y_train)\n",
    "\n",
    "print(\"Best Parameters:\", grid_search.best_params_)\n",
    "model = grid_search.best_estimator_\n",
    "\n",
    "y_pred = model.predict(X_test)\n",
    "\n",
    "accuracy = accuracy_score(y_test, y_pred)\n",
    "print(f\"\\nModel Accuracy: {accuracy:.4f}\")\n",
    "\n",
    "print(\"\\nClassification Report:\")\n",
    "print(classification_report(y_test, y_pred))\n",
    "\n",
    "print(\"F1 Score:\", f1_score(y_test, y_pred))\n",
    "\n",
    "cm = confusion_matrix(y_test, y_pred)\n",
    "plt.figure(figsize=(5,4))\n",
    "sns.heatmap(cm, annot=True, fmt=\"d\", cmap=\"Blues\", xticklabels=[\"Not Canceled\", \"Canceled\"], yticklabels=[\"Not Canceled\", \"Canceled\"])\n",
    "plt.xlabel(\"Predicted Label\")\n",
    "plt.ylabel(\"True Label\")\n",
    "plt.show()"
   ]
  },
  {
   "cell_type": "markdown",
   "id": "TD396ZO5LHbn",
   "metadata": {
    "id": "TD396ZO5LHbn"
   },
   "source": [
    "# KNN Model"
   ]
  },
  {
   "cell_type": "code",
   "execution_count": 36,
   "id": "k-ixgpBCLJNd",
   "metadata": {
    "id": "k-ixgpBCLJNd"
   },
   "outputs": [
    {
     "name": "stdout",
     "output_type": "stream",
     "text": [
      "Best Parameters: {'metric': 'manhattan', 'n_neighbors': 28, 'weights': 'distance'}\n",
      "\n",
      "Model Accuracy: 0.8794\n",
      "\n",
      "Classification Report:\n",
      "              precision    recall  f1-score   support\n",
      "\n",
      "           0       0.83      0.79      0.81      2169\n",
      "           1       0.90      0.92      0.91      4525\n",
      "\n",
      "    accuracy                           0.88      6694\n",
      "   macro avg       0.87      0.86      0.86      6694\n",
      "weighted avg       0.88      0.88      0.88      6694\n",
      "\n",
      "F1 Score: 0.9118514472965592\n"
     ]
    },
    {
     "data": {
      "image/png": "[encoded data removed]",
      "text/plain": [
       "<Figure size 360x288 with 2 Axes>"
      ]
     },
     "metadata": {
      "needs_background": "light"
     },
     "output_type": "display_data"
    }
   ],
   "source": [
    "param_grid = {\n",
    "    'n_neighbors': np.arange(1, 31),\n",
    "    'weights': ['uniform', 'distance'],\n",
    "    'metric': ['euclidean', 'manhattan', 'minkowski']\n",
    "}\n",
    "\n",
    "grid_search = GridSearchCV(KNeighborsClassifier(), param_grid, cv=5, scoring='accuracy', n_jobs=-1)\n",
    "grid_search.fit(X_train, y_train)\n",
    "\n",
    "print(\"Best Parameters:\", grid_search.best_params_)\n",
    "model = grid_search.best_estimator_\n",
    "\n",
    "y_pred = model.predict(X_test)\n",
    "\n",
    "accuracy = accuracy_score(y_test, y_pred)\n",
    "print(f\"\\nModel Accuracy: {accuracy:.4f}\")\n",
    "\n",
    "print(\"\\nClassification Report:\")\n",
    "print(classification_report(y_test, y_pred))\n",
    "\n",
    "print(\"F1 Score:\", f1_score(y_test, y_pred))\n",
    "\n",
    "cm = confusion_matrix(y_test, y_pred)\n",
    "plt.figure(figsize=(5,4))\n",
    "sns.heatmap(cm, annot=True, fmt=\"d\", cmap=\"Blues\", xticklabels=[\"Not Canceled\", \"Canceled\"], yticklabels=[\"Not Canceled\", \"Canceled\"])\n",
    "plt.xlabel(\"Predicted Label\")\n",
    "plt.ylabel(\"True Label\")\n",
    "plt.show()"
   ]
  },
  {
   "cell_type": "markdown",
   "id": "kNe3ZZr4DzSN",
   "metadata": {
    "id": "kNe3ZZr4DzSN"
   },
   "source": [
    "# Logistic Regression Model with fixing imbalanced data in the training set"
   ]
  },
  {
   "cell_type": "code",
   "execution_count": 37,
   "id": "zOGnorpXD1vQ",
   "metadata": {
    "id": "zOGnorpXD1vQ"
   },
   "outputs": [
    {
     "name": "stdout",
     "output_type": "stream",
     "text": [
      "\n",
      "Training target distribution before resampling:\n",
      "booking_status\n",
      "1    18110\n",
      "0     8665\n",
      "Name: count, dtype: int64\n",
      "\n",
      "Training target distribution after SMOTE:\n",
      "booking_status\n",
      "1    17438\n",
      "0    17438\n",
      "Name: count, dtype: int64\n",
      "Best Parameters: {'C': 0.01, 'solver': 'lbfgs'}\n",
      "\n",
      "Model Accuracy: 0.7817\n",
      "\n",
      "Classification Report:\n",
      "              precision    recall  f1-score   support\n",
      "\n",
      "           0       0.63      0.78      0.70      2169\n",
      "           1       0.88      0.78      0.83      4525\n",
      "\n",
      "    accuracy                           0.78      6694\n",
      "   macro avg       0.76      0.78      0.76      6694\n",
      "weighted avg       0.80      0.78      0.79      6694\n",
      "\n",
      "F1 Score: 0.829262592029917\n"
     ]
    },
    {
     "data": {
      "image/png": "[encoded data removed]",
      "text/plain": [
       "<Figure size 360x288 with 2 Axes>"
      ]
     },
     "metadata": {
      "needs_background": "light"
     },
     "output_type": "display_data"
    }
   ],
   "source": [
    "print(\"\\nTraining target distribution before resampling:\")\n",
    "print(y_train.value_counts())\n",
    "\n",
    "smote = SMOTETomek(random_state=42)\n",
    "X_train_res, y_train_res = smote.fit_resample(X_train, y_train)\n",
    "\n",
    "print(\"\\nTraining target distribution after SMOTE:\")\n",
    "print(pd.Series(y_train_res).value_counts())\n",
    "\n",
    "param_grid = {\n",
    "    'C': [0.01, 0.1, 1, 10],\n",
    "    'solver': ['liblinear', 'lbfgs']\n",
    "}\n",
    "\n",
    "grid_search = GridSearchCV(LogisticRegression(class_weight='balanced', random_state=42, max_iter=1000), param_grid, scoring='f1', cv=5, n_jobs=-1)\n",
    "grid_search.fit(X_train_res, y_train_res)\n",
    "\n",
    "print(\"Best Parameters:\", grid_search.best_params_)\n",
    "model = grid_search.best_estimator_\n",
    "\n",
    "y_pred = model.predict(X_test)\n",
    "\n",
    "accuracy = accuracy_score(y_test, y_pred)\n",
    "print(f\"\\nModel Accuracy: {accuracy:.4f}\")\n",
    "\n",
    "print(\"\\nClassification Report:\")\n",
    "print(classification_report(y_test, y_pred))\n",
    "\n",
    "print(\"F1 Score:\", f1_score(y_test, y_pred))\n",
    "\n",
    "cm = confusion_matrix(y_test, y_pred)\n",
    "plt.figure(figsize=(5,4))\n",
    "sns.heatmap(cm, annot=True, fmt=\"d\", cmap=\"Blues\", xticklabels=[\"Not Canceled\", \"Canceled\"], yticklabels=[\"Not Canceled\", \"Canceled\"])\n",
    "plt.xlabel(\"Predicted Label\")\n",
    "plt.ylabel(\"True Label\")\n",
    "plt.show()"
   ]
  }
 ],
 "metadata": {
  "accelerator": "GPU",
  "colab": {
   "gpuType": "T4",
   "provenance": []
  },
  "kernelspec": {
   "display_name": "Python 3",
   "name": "python3"
  },
  "language_info": {
   "codemirror_mode": {
    "name": "ipython",
    "version": 3
   },
   "file_extension": ".py",
   "mimetype": "text/x-python",
   "name": "python",
   "nbconvert_exporter": "python",
   "pygments_lexer": "ipython3",
   "version": "3.11.0"
  }
 },
 "nbformat": 4,
 "nbformat_minor": 5
}
