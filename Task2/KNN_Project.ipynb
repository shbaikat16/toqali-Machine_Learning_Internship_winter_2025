{
  "cells": [
    {
      "cell_type": "markdown",
      "metadata": {},
      "source": [
        "# KNN ALGORITHM"
      ]
    },
    {
      "cell_type": "code",
      "execution_count": 7,
      "metadata": {
        "collapsed": true,
        "id": "ibv3vd-Xffpk"
      },
      "outputs": [],
      "source": [
        "import pandas as pd\n",
        "import numpy as np\n",
        "import seaborn as sns"
      ]
    },
    {
      "cell_type": "code",
      "execution_count": 8,
      "metadata": {
        "id": "GWP9xnAJffpl"
      },
      "outputs": [],
      "source": [
        "data = pd.read_csv( r\"D:\\Cellula Technologies ML_Internship\\Task 2\\first inten project.csv\" )"
      ]
    },
    {
      "cell_type": "code",
      "execution_count": 9,
      "metadata": {
        "id": "ZipApgbFth7G"
      },
      "outputs": [
        {
          "data": {
            "text/plain": [
              "Booking_ID                  0\n",
              "number of adults            0\n",
              "number of children          0\n",
              "number of weekend nights    0\n",
              "number of week nights       0\n",
              "type of meal                0\n",
              "car parking space           0\n",
              "room type                   0\n",
              "lead time                   0\n",
              "market segment type         0\n",
              "repeated                    0\n",
              "P-C                         0\n",
              "P-not-C                     0\n",
              "average price               0\n",
              "special requests            0\n",
              "date of reservation         0\n",
              "booking status              0\n",
              "dtype: int64"
            ]
          },
          "execution_count": 9,
          "metadata": {},
          "output_type": "execute_result"
        }
      ],
      "source": [
        "data.isna().sum()"
      ]
    },
    {
      "cell_type": "code",
      "execution_count": 10,
      "metadata": {
        "id": "7J6Pw34Xffpm"
      },
      "outputs": [
        {
          "data": {
            "application/vnd.microsoft.datawrangler.viewer.v0+json": {
              "columns": [
                {
                  "name": "index",
                  "rawType": "int64",
                  "type": "integer"
                },
                {
                  "name": "Booking_ID",
                  "rawType": "object",
                  "type": "string"
                },
                {
                  "name": "number of adults",
                  "rawType": "int64",
                  "type": "integer"
                },
                {
                  "name": "number of children",
                  "rawType": "int64",
                  "type": "integer"
                },
                {
                  "name": "number of weekend nights",
                  "rawType": "int64",
                  "type": "integer"
                },
                {
                  "name": "number of week nights",
                  "rawType": "int64",
                  "type": "integer"
                },
                {
                  "name": "type of meal",
                  "rawType": "object",
                  "type": "string"
                },
                {
                  "name": "car parking space",
                  "rawType": "int64",
                  "type": "integer"
                },
                {
                  "name": "room type",
                  "rawType": "object",
                  "type": "string"
                },
                {
                  "name": "lead time",
                  "rawType": "int64",
                  "type": "integer"
                },
                {
                  "name": "market segment type",
                  "rawType": "object",
                  "type": "string"
                },
                {
                  "name": "repeated",
                  "rawType": "int64",
                  "type": "integer"
                },
                {
                  "name": "P-C",
                  "rawType": "int64",
                  "type": "integer"
                },
                {
                  "name": "P-not-C",
                  "rawType": "int64",
                  "type": "integer"
                },
                {
                  "name": "average price ",
                  "rawType": "float64",
                  "type": "float"
                },
                {
                  "name": "special requests",
                  "rawType": "int64",
                  "type": "integer"
                },
                {
                  "name": "date of reservation",
                  "rawType": "object",
                  "type": "string"
                },
                {
                  "name": "booking status",
                  "rawType": "object",
                  "type": "string"
                }
              ],
              "conversionMethod": "pd.DataFrame",
              "ref": "25d4b964-2510-4a02-ac3b-1ee362cfb859",
              "rows": [
                [
                  "0",
                  "INN00001",
                  "1",
                  "1",
                  "2",
                  "5",
                  "Meal Plan 1",
                  "0",
                  "Room_Type 1",
                  "224",
                  "Offline",
                  "0",
                  "0",
                  "0",
                  "88.0",
                  "0",
                  "10/2/2015",
                  "Not_Canceled"
                ],
                [
                  "1",
                  "INN00002",
                  "1",
                  "0",
                  "1",
                  "3",
                  "Not Selected",
                  "0",
                  "Room_Type 1",
                  "5",
                  "Online",
                  "0",
                  "0",
                  "0",
                  "106.68",
                  "1",
                  "11/6/2018",
                  "Not_Canceled"
                ],
                [
                  "2",
                  "INN00003",
                  "2",
                  "1",
                  "1",
                  "3",
                  "Meal Plan 1",
                  "0",
                  "Room_Type 1",
                  "1",
                  "Online",
                  "0",
                  "0",
                  "0",
                  "50.0",
                  "0",
                  "2/28/2018",
                  "Canceled"
                ],
                [
                  "3",
                  "INN00004",
                  "1",
                  "0",
                  "0",
                  "2",
                  "Meal Plan 1",
                  "0",
                  "Room_Type 1",
                  "211",
                  "Online",
                  "0",
                  "0",
                  "0",
                  "100.0",
                  "1",
                  "5/20/2017",
                  "Canceled"
                ],
                [
                  "4",
                  "INN00005",
                  "1",
                  "0",
                  "1",
                  "2",
                  "Not Selected",
                  "0",
                  "Room_Type 1",
                  "48",
                  "Online",
                  "0",
                  "0",
                  "0",
                  "77.0",
                  "0",
                  "4/11/2018",
                  "Canceled"
                ]
              ],
              "shape": {
                "columns": 17,
                "rows": 5
              }
            },
            "text/html": [
              "<div>\n",
              "<style scoped>\n",
              "    .dataframe tbody tr th:only-of-type {\n",
              "        vertical-align: middle;\n",
              "    }\n",
              "\n",
              "    .dataframe tbody tr th {\n",
              "        vertical-align: top;\n",
              "    }\n",
              "\n",
              "    .dataframe thead th {\n",
              "        text-align: right;\n",
              "    }\n",
              "</style>\n",
              "<table border=\"1\" class=\"dataframe\">\n",
              "  <thead>\n",
              "    <tr style=\"text-align: right;\">\n",
              "      <th></th>\n",
              "      <th>Booking_ID</th>\n",
              "      <th>number of adults</th>\n",
              "      <th>number of children</th>\n",
              "      <th>number of weekend nights</th>\n",
              "      <th>number of week nights</th>\n",
              "      <th>type of meal</th>\n",
              "      <th>car parking space</th>\n",
              "      <th>room type</th>\n",
              "      <th>lead time</th>\n",
              "      <th>market segment type</th>\n",
              "      <th>repeated</th>\n",
              "      <th>P-C</th>\n",
              "      <th>P-not-C</th>\n",
              "      <th>average price</th>\n",
              "      <th>special requests</th>\n",
              "      <th>date of reservation</th>\n",
              "      <th>booking status</th>\n",
              "    </tr>\n",
              "  </thead>\n",
              "  <tbody>\n",
              "    <tr>\n",
              "      <th>0</th>\n",
              "      <td>INN00001</td>\n",
              "      <td>1</td>\n",
              "      <td>1</td>\n",
              "      <td>2</td>\n",
              "      <td>5</td>\n",
              "      <td>Meal Plan 1</td>\n",
              "      <td>0</td>\n",
              "      <td>Room_Type 1</td>\n",
              "      <td>224</td>\n",
              "      <td>Offline</td>\n",
              "      <td>0</td>\n",
              "      <td>0</td>\n",
              "      <td>0</td>\n",
              "      <td>88.00</td>\n",
              "      <td>0</td>\n",
              "      <td>10/2/2015</td>\n",
              "      <td>Not_Canceled</td>\n",
              "    </tr>\n",
              "    <tr>\n",
              "      <th>1</th>\n",
              "      <td>INN00002</td>\n",
              "      <td>1</td>\n",
              "      <td>0</td>\n",
              "      <td>1</td>\n",
              "      <td>3</td>\n",
              "      <td>Not Selected</td>\n",
              "      <td>0</td>\n",
              "      <td>Room_Type 1</td>\n",
              "      <td>5</td>\n",
              "      <td>Online</td>\n",
              "      <td>0</td>\n",
              "      <td>0</td>\n",
              "      <td>0</td>\n",
              "      <td>106.68</td>\n",
              "      <td>1</td>\n",
              "      <td>11/6/2018</td>\n",
              "      <td>Not_Canceled</td>\n",
              "    </tr>\n",
              "    <tr>\n",
              "      <th>2</th>\n",
              "      <td>INN00003</td>\n",
              "      <td>2</td>\n",
              "      <td>1</td>\n",
              "      <td>1</td>\n",
              "      <td>3</td>\n",
              "      <td>Meal Plan 1</td>\n",
              "      <td>0</td>\n",
              "      <td>Room_Type 1</td>\n",
              "      <td>1</td>\n",
              "      <td>Online</td>\n",
              "      <td>0</td>\n",
              "      <td>0</td>\n",
              "      <td>0</td>\n",
              "      <td>50.00</td>\n",
              "      <td>0</td>\n",
              "      <td>2/28/2018</td>\n",
              "      <td>Canceled</td>\n",
              "    </tr>\n",
              "    <tr>\n",
              "      <th>3</th>\n",
              "      <td>INN00004</td>\n",
              "      <td>1</td>\n",
              "      <td>0</td>\n",
              "      <td>0</td>\n",
              "      <td>2</td>\n",
              "      <td>Meal Plan 1</td>\n",
              "      <td>0</td>\n",
              "      <td>Room_Type 1</td>\n",
              "      <td>211</td>\n",
              "      <td>Online</td>\n",
              "      <td>0</td>\n",
              "      <td>0</td>\n",
              "      <td>0</td>\n",
              "      <td>100.00</td>\n",
              "      <td>1</td>\n",
              "      <td>5/20/2017</td>\n",
              "      <td>Canceled</td>\n",
              "    </tr>\n",
              "    <tr>\n",
              "      <th>4</th>\n",
              "      <td>INN00005</td>\n",
              "      <td>1</td>\n",
              "      <td>0</td>\n",
              "      <td>1</td>\n",
              "      <td>2</td>\n",
              "      <td>Not Selected</td>\n",
              "      <td>0</td>\n",
              "      <td>Room_Type 1</td>\n",
              "      <td>48</td>\n",
              "      <td>Online</td>\n",
              "      <td>0</td>\n",
              "      <td>0</td>\n",
              "      <td>0</td>\n",
              "      <td>77.00</td>\n",
              "      <td>0</td>\n",
              "      <td>4/11/2018</td>\n",
              "      <td>Canceled</td>\n",
              "    </tr>\n",
              "  </tbody>\n",
              "</table>\n",
              "</div>"
            ],
            "text/plain": [
              "  Booking_ID  number of adults  number of children  number of weekend nights  \\\n",
              "0   INN00001                 1                   1                         2   \n",
              "1   INN00002                 1                   0                         1   \n",
              "2   INN00003                 2                   1                         1   \n",
              "3   INN00004                 1                   0                         0   \n",
              "4   INN00005                 1                   0                         1   \n",
              "\n",
              "   number of week nights  type of meal  car parking space    room type  \\\n",
              "0                      5   Meal Plan 1                  0  Room_Type 1   \n",
              "1                      3  Not Selected                  0  Room_Type 1   \n",
              "2                      3   Meal Plan 1                  0  Room_Type 1   \n",
              "3                      2   Meal Plan 1                  0  Room_Type 1   \n",
              "4                      2  Not Selected                  0  Room_Type 1   \n",
              "\n",
              "   lead time market segment type  repeated  P-C  P-not-C  average price   \\\n",
              "0        224             Offline         0    0        0           88.00   \n",
              "1          5              Online         0    0        0          106.68   \n",
              "2          1              Online         0    0        0           50.00   \n",
              "3        211              Online         0    0        0          100.00   \n",
              "4         48              Online         0    0        0           77.00   \n",
              "\n",
              "   special requests date of reservation booking status  \n",
              "0                 0           10/2/2015   Not_Canceled  \n",
              "1                 1           11/6/2018   Not_Canceled  \n",
              "2                 0           2/28/2018       Canceled  \n",
              "3                 1           5/20/2017       Canceled  \n",
              "4                 0           4/11/2018       Canceled  "
            ]
          },
          "execution_count": 10,
          "metadata": {},
          "output_type": "execute_result"
        }
      ],
      "source": [
        "data . head()"
      ]
    },
    {
      "cell_type": "code",
      "execution_count": 11,
      "metadata": {
        "id": "ju0ZG-Ugffpm"
      },
      "outputs": [
        {
          "name": "stdout",
          "output_type": "stream",
          "text": [
            "<class 'pandas.core.frame.DataFrame'>\n",
            "RangeIndex: 36285 entries, 0 to 36284\n",
            "Data columns (total 17 columns):\n",
            " #   Column                    Non-Null Count  Dtype  \n",
            "---  ------                    --------------  -----  \n",
            " 0   Booking_ID                36285 non-null  object \n",
            " 1   number of adults          36285 non-null  int64  \n",
            " 2   number of children        36285 non-null  int64  \n",
            " 3   number of weekend nights  36285 non-null  int64  \n",
            " 4   number of week nights     36285 non-null  int64  \n",
            " 5   type of meal              36285 non-null  object \n",
            " 6   car parking space         36285 non-null  int64  \n",
            " 7   room type                 36285 non-null  object \n",
            " 8   lead time                 36285 non-null  int64  \n",
            " 9   market segment type       36285 non-null  object \n",
            " 10  repeated                  36285 non-null  int64  \n",
            " 11  P-C                       36285 non-null  int64  \n",
            " 12  P-not-C                   36285 non-null  int64  \n",
            " 13  average price             36285 non-null  float64\n",
            " 14  special requests          36285 non-null  int64  \n",
            " 15  date of reservation       36285 non-null  object \n",
            " 16  booking status            36285 non-null  object \n",
            "dtypes: float64(1), int64(10), object(6)\n",
            "memory usage: 4.7+ MB\n"
          ]
        }
      ],
      "source": [
        "data . info()"
      ]
    },
    {
      "cell_type": "code",
      "execution_count": 12,
      "metadata": {
        "id": "ih3liEpktqZC"
      },
      "outputs": [
        {
          "data": {
            "text/plain": [
              "Index(['Booking_ID', 'number of adults', 'number of children',\n",
              "       'number of weekend nights', 'number of week nights', 'type of meal',\n",
              "       'car parking space', 'room type', 'lead time', 'market segment type',\n",
              "       'repeated', 'P-C', 'P-not-C', 'average price ', 'special requests',\n",
              "       'date of reservation', 'booking status'],\n",
              "      dtype='object')"
            ]
          },
          "execution_count": 12,
          "metadata": {},
          "output_type": "execute_result"
        }
      ],
      "source": [
        "data.columns"
      ]
    },
    {
      "cell_type": "code",
      "execution_count": 13,
      "metadata": {},
      "outputs": [
        {
          "name": "stdout",
          "output_type": "stream",
          "text": [
            "Booking_ID\n",
            "['INN00001' 'INN00002' 'INN00003' ... 'INN36284' 'INN36285' 'INN36286']\n",
            "\n",
            "\n",
            "type of meal\n",
            "['Meal Plan 1' 'Not Selected' 'Meal Plan 2' 'Meal Plan 3']\n",
            "\n",
            "\n",
            "room type\n",
            "['Room_Type 1' 'Room_Type 4' 'Room_Type 2' 'Room_Type 6' 'Room_Type 5'\n",
            " 'Room_Type 7' 'Room_Type 3']\n",
            "\n",
            "\n",
            "market segment type\n",
            "['Offline' 'Online' 'Corporate' 'Aviation' 'Complementary']\n",
            "\n",
            "\n",
            "date of reservation\n",
            "['10/2/2015' '11/6/2018' '2/28/2018' '5/20/2017' '4/11/2018' '9/13/2016'\n",
            " '10/15/2017' '12/26/2018' '7/6/2018' '10/18/2018' '9/11/2018' '4/30/2018'\n",
            " '11/26/2018' '11/20/2018' '10/20/2017' '6/15/2018' '10/5/2017'\n",
            " '8/10/2017' '10/30/2017' '10/4/2017' '11/25/2018' '3/20/2018'\n",
            " '10/13/2018' '5/22/2018' '4/28/2018' '9/21/2017' '5/19/2018' '11/6/2017'\n",
            " '9/17/2017' '9/19/2017' '11/13/2018' '12/7/2018' '1/9/2018' '10/7/2018'\n",
            " '4/27/2018' '6/19/2018' '10/17/2017' '11/19/2018' '7/30/2018' '11/1/2018'\n",
            " '6/21/2018' '4/10/2018' '6/27/2018' '11/18/2017' '12/29/2017'\n",
            " '11/20/2017' '4/6/2018' '12/29/2018' '5/30/2018' '4/22/2018' '5/16/2018'\n",
            " '11/11/2017' '6/13/2018' '7/28/2018' '4/20/2018' '9/2/2018' '5/3/2018'\n",
            " '6/24/2018' '9/10/2017' '12/18/2018' '10/5/2018' '6/3/2018' '4/15/2018'\n",
            " '4/25/2018' '8/25/2018' '11/14/2018' '8/29/2018' '10/25/2017' '3/9/2018'\n",
            " '12/31/2018' '6/28/2018' '3/29/2018' '4/1/2018' '10/11/2018' '12/25/2018'\n",
            " '3/14/2018' '3/4/2018' '10/17/2018' '9/4/2018' '12/10/2018' '8/9/2018'\n",
            " '5/5/2018' '3/18/2018' '4/9/2018' '8/30/2018' '8/4/2018' '8/18/2018'\n",
            " '4/13/2018' '11/17/2018' '12/22/2018' '10/23/2018' '5/13/2018'\n",
            " '12/13/2018' '10/31/2017' '10/8/2017' '2/16/2018' '11/2/2017' '6/30/2018'\n",
            " '9/5/2017' '9/30/2018' '6/16/2018' '6/26/2018' '8/13/2018' '11/12/2018'\n",
            " '4/29/2018' '11/14/2017' '9/1/2018' '9/16/2018' '3/10/2018' '4/24/2018'\n",
            " '3/30/2018' '11/3/2018' '10/14/2018' '6/5/2018' '7/13/2018' '10/20/2018'\n",
            " '12/28/2018' '10/19/2017' '10/9/2017' '7/25/2018' '5/9/2018' '6/17/2018'\n",
            " '11/18/2018' '10/30/2018' '3/28/2018' '6/1/2018' '5/4/2018' '4/8/2018'\n",
            " '6/8/2018' '4/7/2018' '5/2/2018' '9/29/2018' '4/4/2018' '7/17/2017'\n",
            " '5/24/2018' '2/17/2018' '4/14/2018' '4/17/2018' '8/1/2018' '7/12/2018'\n",
            " '1/2/2018' '11/16/2018' '9/19/2018' '9/13/2017' '9/15/2018' '12/16/2018'\n",
            " '11/5/2018' '3/22/2018' '8/17/2018' '5/20/2018' '10/24/2017' '7/21/2018'\n",
            " '9/9/2017' '3/31/2018' '4/2/2018' '8/22/2018' '8/8/2018' '8/15/2018'\n",
            " '8/19/2018' '10/10/2018' '10/6/2018' '3/25/2018' '8/3/2018' '9/11/2017'\n",
            " '3/23/2018' '9/26/2018' '8/24/2018' '7/16/2017' '9/8/2018' '8/21/2018'\n",
            " '12/3/2018' '2/27/2018' '9/22/2017' '7/18/2018' '12/5/2018' '8/22/2017'\n",
            " '3/1/2018' '9/5/2018' '6/10/2018' '5/27/2018' '2/5/2018' '5/7/2018'\n",
            " '5/12/2018' '10/28/2018' '10/18/2017' '8/14/2017' '12/2/2018' '9/3/2017'\n",
            " '9/14/2018' '2/8/2018' '10/2/2017' '3/24/2018' '5/31/2018' '11/9/2017'\n",
            " '7/26/2018' '5/21/2018' '9/7/2018' '11/15/2017' '9/16/2017' '10/16/2017'\n",
            " '7/23/2018' '6/11/2018' '1/16/2018' '9/14/2017' '10/15/2018' '9/2/2017'\n",
            " '8/12/2017' '8/23/2017' '3/11/2018' '8/28/2018' '12/9/2018' '6/12/2018'\n",
            " '3/5/2018' '8/18/2017' '4/21/2018' '6/18/2018' '8/10/2018' '3/17/2018'\n",
            " '8/8/2017' '5/1/2018' '4/3/2018' '9/4/2017' '12/27/2017' '2/20/2018'\n",
            " '9/30/2017' '12/26/2017' '7/9/2018' '6/6/2018' '7/17/2018' '2/22/2018'\n",
            " '7/8/2018' '11/11/2018' '10/6/2017' '8/11/2017' '7/25/2017' '12/15/2017'\n",
            " '10/23/2017' '10/10/2017' '10/2/2018' '9/8/2017' '12/21/2018'\n",
            " '11/10/2018' '2/24/2018' '7/1/2018' '7/5/2018' '7/11/2018' '5/14/2018'\n",
            " '10/22/2018' '9/18/2018' '9/3/2018' '9/22/2018' '11/19/2017' '7/10/2018'\n",
            " '9/25/2017' '10/4/2018' '10/27/2018' '3/3/2018' '9/13/2018' '9/15/2017'\n",
            " '2/19/2018' '9/28/2018' '8/12/2018' '10/1/2018' '9/9/2018' '1/29/2018'\n",
            " '8/6/2018' '11/4/2018' '5/29/2018' '1/20/2018' '12/7/2017' '4/5/2018'\n",
            " '7/2/2018' '9/27/2018' '10/21/2017' '9/6/2018' '3/16/2018' '10/24/2018'\n",
            " '5/11/2018' '10/13/2017' '10/16/2018' '10/31/2018' '9/18/2017'\n",
            " '6/23/2018' '8/26/2017' '7/4/2018' '12/8/2018' '12/9/2017' '10/19/2018'\n",
            " '10/22/2017' '3/8/2018' '2/11/2018' '11/23/2018' '6/7/2018' '4/23/2018'\n",
            " '10/21/2018' '12/5/2017' '10/14/2017' '12/24/2017' '6/14/2018' '2/4/2018'\n",
            " '12/17/2017' '8/31/2018' '10/7/2017' '11/29/2018' '11/2/2018' '3/19/2018'\n",
            " '2/3/2018' '4/26/2018' '12/30/2017' '10/3/2018' '6/25/2018' '7/1/2017'\n",
            " '9/6/2017' '12/30/2018' '1/6/2018' '3/13/2018' '6/29/2018' '7/27/2017'\n",
            " '6/20/2018' '2/26/2018' '10/1/2017' '7/14/2018' '7/27/2018' '9/7/2017'\n",
            " '8/25/2017' '2/6/2018' '1/8/2018' '10/26/2018' '11/23/2017' '3/7/2018'\n",
            " '9/20/2018' '1/28/2018' '2/25/2018' '3/21/2018' '12/14/2018' '3/15/2018'\n",
            " '12/23/2018' '7/11/2017' '10/12/2018' '8/9/2017' '2/14/2018' '2/13/2018'\n",
            " '2/15/2018' '4/16/2018' '3/2/2018' '8/14/2018' '12/1/2017' '9/21/2018'\n",
            " '1/3/2018' '5/6/2018' '6/2/2018' '4/12/2018' '12/27/2018' '6/4/2018'\n",
            " '5/25/2018' '12/24/2018' '12/6/2017' '7/19/2018' '11/10/2017'\n",
            " '12/11/2017' '5/26/2018' '1/4/2018' '9/12/2018' '11/3/2017' '2/21/2018'\n",
            " '8/20/2017' '8/19/2017' '10/28/2017' '5/8/2018' '2/12/2018' '2/7/2018'\n",
            " '7/18/2017' '9/20/2017' '9/24/2017' '1/15/2018' '5/10/2018' '8/27/2017'\n",
            " '1/14/2018' '9/23/2018' '8/5/2017' '10/3/2017' '8/20/2018' '10/29/2017'\n",
            " '10/29/2018' '9/10/2018' '8/30/2017' '6/22/2018' '12/4/2017' '8/3/2017'\n",
            " '11/7/2018' '7/3/2018' '12/6/2018' '2/1/2018' '8/2/2018' '12/12/2018'\n",
            " '9/1/2017' '12/10/2017' '1/27/2018' '4/19/2018' '7/16/2018' '7/5/2017'\n",
            " '8/16/2018' '1/25/2018' '7/15/2018' '8/15/2017' '10/12/2017' '9/29/2017'\n",
            " '1/24/2018' '3/27/2018' '8/17/2017' '8/21/2017' '12/31/2017' '11/9/2018'\n",
            " '7/6/2017' '11/8/2018' '7/22/2018' '5/18/2018' '8/27/2018' '11/21/2018'\n",
            " '10/9/2018' '3/6/2018' '9/17/2018' '1/19/2018' '11/15/2018' '12/3/2017'\n",
            " '9/25/2018' '7/7/2018' '4/18/2018' '5/17/2018' '11/27/2018' '10/25/2018'\n",
            " '10/8/2018' '3/26/2018' '11/5/2017' '1/30/2018' '11/8/2017' '6/9/2018'\n",
            " '7/29/2018' '11/28/2017' '12/4/2018' '8/28/2017' '12/18/2017' '9/12/2017'\n",
            " '7/7/2017' '1/7/2018' '11/22/2018' '9/28/2017' '8/29/2017' '8/26/2018'\n",
            " '8/6/2017' '3/12/2018' '2/9/2018' '7/24/2018' '12/22/2017' '11/30/2017'\n",
            " '8/7/2018' '5/15/2018' '12/20/2018' '8/1/2017' '11/1/2017' '12/19/2017'\n",
            " '12/20/2017' '5/23/2018' '11/4/2017' '7/23/2017' '11/13/2017' '7/20/2018'\n",
            " '7/31/2018' '12/11/2018' '12/17/2018' '1/31/2018' '2/23/2018' '12/1/2018'\n",
            " '1/10/2018' '8/24/2017' '2/10/2018' '11/24/2018' '5/28/2018' '9/24/2018'\n",
            " '1/22/2018' '11/27/2017' '11/16/2017' '1/5/2018' '1/13/2018' '8/5/2018'\n",
            " '11/28/2018' '12/23/2017' '1/26/2018' '11/25/2017' '12/16/2017'\n",
            " '1/21/2018' '12/19/2018' '12/15/2018' '11/12/2017' '8/23/2018'\n",
            " '2018-2-29' '11/17/2017' '11/30/2018' '8/4/2017' '10/11/2017' '8/11/2018'\n",
            " '8/7/2017' '1/18/2018' '11/7/2017' '1/12/2018' '9/23/2017' '7/29/2017'\n",
            " '8/31/2017' '7/13/2017' '11/29/2017' '7/15/2017' '12/28/2017'\n",
            " '11/26/2017' '2/2/2018' '8/13/2017' '10/26/2017' '7/9/2017' '2/18/2018'\n",
            " '11/21/2017' '11/24/2017' '10/27/2017' '1/23/2018' '1/1/2018'\n",
            " '12/25/2017' '12/2/2017' '11/22/2017' '12/12/2017' '9/27/2017'\n",
            " '1/17/2018' '12/13/2017' '12/8/2017' '7/31/2017' '8/16/2017' '7/10/2017'\n",
            " '12/14/2017' '9/26/2017' '7/2/2017' '7/4/2017' '7/26/2017' '1/11/2018'\n",
            " '7/30/2017' '12/21/2017' '7/8/2017' '7/20/2017' '7/22/2017' '7/28/2017'\n",
            " '7/24/2017' '7/12/2017' '7/3/2017' '7/19/2017' '7/14/2017' '8/2/2017'\n",
            " '7/21/2017']\n",
            "\n",
            "\n",
            "booking status\n",
            "['Not_Canceled' 'Canceled']\n",
            "\n",
            "\n"
          ]
        }
      ],
      "source": [
        "for i in data.columns:\n",
        "    if data[i].dtype == 'object':\n",
        "        print(i)\n",
        "        print(data[i].unique())\n",
        "        print('\\n')\n",
        "\n",
        "    "
      ]
    },
    {
      "cell_type": "code",
      "execution_count": 14,
      "metadata": {},
      "outputs": [
        {
          "data": {
            "text/plain": [
              "booking status\n",
              "Not_Canceled    24396\n",
              "Canceled        11889\n",
              "Name: count, dtype: int64"
            ]
          },
          "execution_count": 14,
          "metadata": {},
          "output_type": "execute_result"
        }
      ],
      "source": [
        "data['booking status'].value_counts()"
      ]
    },
    {
      "cell_type": "code",
      "execution_count": 15,
      "metadata": {},
      "outputs": [],
      "source": [
        "# one hot encoding\n",
        "data['booking status'] = data['booking status'].map({'Not_Canceled':1, 'Canceled':0})\n"
      ]
    },
    {
      "cell_type": "code",
      "execution_count": 16,
      "metadata": {},
      "outputs": [
        {
          "data": {
            "text/plain": [
              "booking status\n",
              "1    24396\n",
              "0    11889\n",
              "Name: count, dtype: int64"
            ]
          },
          "execution_count": 16,
          "metadata": {},
          "output_type": "execute_result"
        }
      ],
      "source": [
        "data['booking status'].value_counts()"
      ]
    },
    {
      "cell_type": "code",
      "execution_count": 17,
      "metadata": {},
      "outputs": [
        {
          "data": {
            "text/plain": [
              "market segment type\n",
              "Online           23221\n",
              "Offline          10531\n",
              "Corporate         2017\n",
              "Complementary      391\n",
              "Aviation           125\n",
              "Name: count, dtype: int64"
            ]
          },
          "execution_count": 17,
          "metadata": {},
          "output_type": "execute_result"
        }
      ],
      "source": [
        "data['market segment type'].value_counts()"
      ]
    },
    {
      "cell_type": "code",
      "execution_count": 18,
      "metadata": {},
      "outputs": [],
      "source": [
        "# encoding\n",
        "data['market segment type'] = data['market segment type'].map({'Online':0, 'Offline':1,'Corporate':2,'Complementary':3,'Aviation':4})"
      ]
    },
    {
      "cell_type": "code",
      "execution_count": 19,
      "metadata": {},
      "outputs": [
        {
          "data": {
            "text/plain": [
              "market segment type\n",
              "0    23221\n",
              "1    10531\n",
              "2     2017\n",
              "3      391\n",
              "4      125\n",
              "Name: count, dtype: int64"
            ]
          },
          "execution_count": 19,
          "metadata": {},
          "output_type": "execute_result"
        }
      ],
      "source": [
        "data['market segment type'].value_counts()"
      ]
    },
    {
      "cell_type": "code",
      "execution_count": 20,
      "metadata": {},
      "outputs": [
        {
          "data": {
            "text/plain": [
              "Booking_ID\n",
              "INN00001    1\n",
              "INN24194    1\n",
              "INN24188    1\n",
              "INN24189    1\n",
              "INN24190    1\n",
              "           ..\n",
              "INN12090    1\n",
              "INN12089    1\n",
              "INN12088    1\n",
              "INN12087    1\n",
              "INN36286    1\n",
              "Name: count, Length: 36285, dtype: int64"
            ]
          },
          "execution_count": 20,
          "metadata": {},
          "output_type": "execute_result"
        }
      ],
      "source": [
        "data['Booking_ID'].value_counts()"
      ]
    },
    {
      "cell_type": "code",
      "execution_count": 21,
      "metadata": {},
      "outputs": [
        {
          "data": {
            "text/plain": [
              "type of meal\n",
              "Meal Plan 1     27842\n",
              "Not Selected     5132\n",
              "Meal Plan 2      3306\n",
              "Meal Plan 3         5\n",
              "Name: count, dtype: int64"
            ]
          },
          "execution_count": 21,
          "metadata": {},
          "output_type": "execute_result"
        }
      ],
      "source": [
        "data['type of meal'].value_counts()"
      ]
    },
    {
      "cell_type": "code",
      "execution_count": 22,
      "metadata": {},
      "outputs": [],
      "source": [
        "# encoding\n",
        "data['type of meal'] = data['type of meal'].map({'Meal Plan 1':0, 'Not Selected':1,'Meal Plan 2':2, 'Meal Plan 3':3}) "
      ]
    },
    {
      "cell_type": "code",
      "execution_count": 23,
      "metadata": {},
      "outputs": [
        {
          "data": {
            "text/plain": [
              "type of meal\n",
              "0    27842\n",
              "1     5132\n",
              "2     3306\n",
              "3        5\n",
              "Name: count, dtype: int64"
            ]
          },
          "execution_count": 23,
          "metadata": {},
          "output_type": "execute_result"
        }
      ],
      "source": [
        "data['type of meal'].value_counts()"
      ]
    },
    {
      "cell_type": "code",
      "execution_count": 24,
      "metadata": {},
      "outputs": [
        {
          "data": {
            "text/plain": [
              "room type\n",
              "Room_Type 1    28138\n",
              "Room_Type 4     6059\n",
              "Room_Type 6      966\n",
              "Room_Type 2      692\n",
              "Room_Type 5      265\n",
              "Room_Type 7      158\n",
              "Room_Type 3        7\n",
              "Name: count, dtype: int64"
            ]
          },
          "execution_count": 24,
          "metadata": {},
          "output_type": "execute_result"
        }
      ],
      "source": [
        "data['room type'].value_counts()"
      ]
    },
    {
      "cell_type": "code",
      "execution_count": 25,
      "metadata": {},
      "outputs": [],
      "source": [
        "data['room type'] = data['room type'].map({'Room_Type 1':0, 'Room_Type 4':1,'Room_Type 6':2, 'Room_Type 2':3 , 'Room_Type 3':4, 'Room_Type 5':5, 'Room_Type 7':6})"
      ]
    },
    {
      "cell_type": "code",
      "execution_count": 26,
      "metadata": {},
      "outputs": [
        {
          "data": {
            "text/plain": [
              "room type\n",
              "0    28138\n",
              "1     6059\n",
              "2      966\n",
              "3      692\n",
              "5      265\n",
              "6      158\n",
              "4        7\n",
              "Name: count, dtype: int64"
            ]
          },
          "execution_count": 26,
          "metadata": {},
          "output_type": "execute_result"
        }
      ],
      "source": [
        "data['room type'].value_counts()"
      ]
    },
    {
      "cell_type": "code",
      "execution_count": 27,
      "metadata": {},
      "outputs": [
        {
          "name": "stdout",
          "output_type": "stream",
          "text": [
            "<class 'pandas.core.frame.DataFrame'>\n",
            "RangeIndex: 36285 entries, 0 to 36284\n",
            "Data columns (total 17 columns):\n",
            " #   Column                    Non-Null Count  Dtype  \n",
            "---  ------                    --------------  -----  \n",
            " 0   Booking_ID                36285 non-null  object \n",
            " 1   number of adults          36285 non-null  int64  \n",
            " 2   number of children        36285 non-null  int64  \n",
            " 3   number of weekend nights  36285 non-null  int64  \n",
            " 4   number of week nights     36285 non-null  int64  \n",
            " 5   type of meal              36285 non-null  int64  \n",
            " 6   car parking space         36285 non-null  int64  \n",
            " 7   room type                 36285 non-null  int64  \n",
            " 8   lead time                 36285 non-null  int64  \n",
            " 9   market segment type       36285 non-null  int64  \n",
            " 10  repeated                  36285 non-null  int64  \n",
            " 11  P-C                       36285 non-null  int64  \n",
            " 12  P-not-C                   36285 non-null  int64  \n",
            " 13  average price             36285 non-null  float64\n",
            " 14  special requests          36285 non-null  int64  \n",
            " 15  date of reservation       36285 non-null  object \n",
            " 16  booking status            36285 non-null  int64  \n",
            "dtypes: float64(1), int64(14), object(2)\n",
            "memory usage: 4.7+ MB\n"
          ]
        }
      ],
      "source": [
        "data.info()"
      ]
    },
    {
      "cell_type": "code",
      "execution_count": 28,
      "metadata": {
        "id": "SiV1u4Hht5Bu"
      },
      "outputs": [],
      "source": [
        "# drop object columns\n",
        "data.drop(['Booking_ID','date of reservation'], axis=1, inplace=True)"
      ]
    },
    {
      "cell_type": "code",
      "execution_count": 29,
      "metadata": {
        "id": "y361Fkf-vd5Q"
      },
      "outputs": [
        {
          "data": {
            "application/vnd.microsoft.datawrangler.viewer.v0+json": {
              "columns": [
                {
                  "name": "index",
                  "rawType": "int64",
                  "type": "integer"
                },
                {
                  "name": "number of adults",
                  "rawType": "int64",
                  "type": "integer"
                },
                {
                  "name": "number of children",
                  "rawType": "int64",
                  "type": "integer"
                },
                {
                  "name": "number of weekend nights",
                  "rawType": "int64",
                  "type": "integer"
                },
                {
                  "name": "number of week nights",
                  "rawType": "int64",
                  "type": "integer"
                },
                {
                  "name": "type of meal",
                  "rawType": "int64",
                  "type": "integer"
                },
                {
                  "name": "car parking space",
                  "rawType": "int64",
                  "type": "integer"
                },
                {
                  "name": "room type",
                  "rawType": "int64",
                  "type": "integer"
                },
                {
                  "name": "lead time",
                  "rawType": "int64",
                  "type": "integer"
                },
                {
                  "name": "market segment type",
                  "rawType": "int64",
                  "type": "integer"
                },
                {
                  "name": "repeated",
                  "rawType": "int64",
                  "type": "integer"
                },
                {
                  "name": "P-C",
                  "rawType": "int64",
                  "type": "integer"
                },
                {
                  "name": "P-not-C",
                  "rawType": "int64",
                  "type": "integer"
                },
                {
                  "name": "average price ",
                  "rawType": "float64",
                  "type": "float"
                },
                {
                  "name": "special requests",
                  "rawType": "int64",
                  "type": "integer"
                },
                {
                  "name": "booking status",
                  "rawType": "int64",
                  "type": "integer"
                }
              ],
              "conversionMethod": "pd.DataFrame",
              "ref": "93aa207c-2c38-43cc-a8da-57adaee71289",
              "rows": [
                [
                  "0",
                  "1",
                  "1",
                  "2",
                  "5",
                  "0",
                  "0",
                  "0",
                  "224",
                  "1",
                  "0",
                  "0",
                  "0",
                  "88.0",
                  "0",
                  "1"
                ],
                [
                  "1",
                  "1",
                  "0",
                  "1",
                  "3",
                  "1",
                  "0",
                  "0",
                  "5",
                  "0",
                  "0",
                  "0",
                  "0",
                  "106.68",
                  "1",
                  "1"
                ],
                [
                  "2",
                  "2",
                  "1",
                  "1",
                  "3",
                  "0",
                  "0",
                  "0",
                  "1",
                  "0",
                  "0",
                  "0",
                  "0",
                  "50.0",
                  "0",
                  "0"
                ],
                [
                  "3",
                  "1",
                  "0",
                  "0",
                  "2",
                  "0",
                  "0",
                  "0",
                  "211",
                  "0",
                  "0",
                  "0",
                  "0",
                  "100.0",
                  "1",
                  "0"
                ],
                [
                  "4",
                  "1",
                  "0",
                  "1",
                  "2",
                  "1",
                  "0",
                  "0",
                  "48",
                  "0",
                  "0",
                  "0",
                  "0",
                  "77.0",
                  "0",
                  "0"
                ]
              ],
              "shape": {
                "columns": 15,
                "rows": 5
              }
            },
            "text/html": [
              "<div>\n",
              "<style scoped>\n",
              "    .dataframe tbody tr th:only-of-type {\n",
              "        vertical-align: middle;\n",
              "    }\n",
              "\n",
              "    .dataframe tbody tr th {\n",
              "        vertical-align: top;\n",
              "    }\n",
              "\n",
              "    .dataframe thead th {\n",
              "        text-align: right;\n",
              "    }\n",
              "</style>\n",
              "<table border=\"1\" class=\"dataframe\">\n",
              "  <thead>\n",
              "    <tr style=\"text-align: right;\">\n",
              "      <th></th>\n",
              "      <th>number of adults</th>\n",
              "      <th>number of children</th>\n",
              "      <th>number of weekend nights</th>\n",
              "      <th>number of week nights</th>\n",
              "      <th>type of meal</th>\n",
              "      <th>car parking space</th>\n",
              "      <th>room type</th>\n",
              "      <th>lead time</th>\n",
              "      <th>market segment type</th>\n",
              "      <th>repeated</th>\n",
              "      <th>P-C</th>\n",
              "      <th>P-not-C</th>\n",
              "      <th>average price</th>\n",
              "      <th>special requests</th>\n",
              "      <th>booking status</th>\n",
              "    </tr>\n",
              "  </thead>\n",
              "  <tbody>\n",
              "    <tr>\n",
              "      <th>0</th>\n",
              "      <td>1</td>\n",
              "      <td>1</td>\n",
              "      <td>2</td>\n",
              "      <td>5</td>\n",
              "      <td>0</td>\n",
              "      <td>0</td>\n",
              "      <td>0</td>\n",
              "      <td>224</td>\n",
              "      <td>1</td>\n",
              "      <td>0</td>\n",
              "      <td>0</td>\n",
              "      <td>0</td>\n",
              "      <td>88.00</td>\n",
              "      <td>0</td>\n",
              "      <td>1</td>\n",
              "    </tr>\n",
              "    <tr>\n",
              "      <th>1</th>\n",
              "      <td>1</td>\n",
              "      <td>0</td>\n",
              "      <td>1</td>\n",
              "      <td>3</td>\n",
              "      <td>1</td>\n",
              "      <td>0</td>\n",
              "      <td>0</td>\n",
              "      <td>5</td>\n",
              "      <td>0</td>\n",
              "      <td>0</td>\n",
              "      <td>0</td>\n",
              "      <td>0</td>\n",
              "      <td>106.68</td>\n",
              "      <td>1</td>\n",
              "      <td>1</td>\n",
              "    </tr>\n",
              "    <tr>\n",
              "      <th>2</th>\n",
              "      <td>2</td>\n",
              "      <td>1</td>\n",
              "      <td>1</td>\n",
              "      <td>3</td>\n",
              "      <td>0</td>\n",
              "      <td>0</td>\n",
              "      <td>0</td>\n",
              "      <td>1</td>\n",
              "      <td>0</td>\n",
              "      <td>0</td>\n",
              "      <td>0</td>\n",
              "      <td>0</td>\n",
              "      <td>50.00</td>\n",
              "      <td>0</td>\n",
              "      <td>0</td>\n",
              "    </tr>\n",
              "    <tr>\n",
              "      <th>3</th>\n",
              "      <td>1</td>\n",
              "      <td>0</td>\n",
              "      <td>0</td>\n",
              "      <td>2</td>\n",
              "      <td>0</td>\n",
              "      <td>0</td>\n",
              "      <td>0</td>\n",
              "      <td>211</td>\n",
              "      <td>0</td>\n",
              "      <td>0</td>\n",
              "      <td>0</td>\n",
              "      <td>0</td>\n",
              "      <td>100.00</td>\n",
              "      <td>1</td>\n",
              "      <td>0</td>\n",
              "    </tr>\n",
              "    <tr>\n",
              "      <th>4</th>\n",
              "      <td>1</td>\n",
              "      <td>0</td>\n",
              "      <td>1</td>\n",
              "      <td>2</td>\n",
              "      <td>1</td>\n",
              "      <td>0</td>\n",
              "      <td>0</td>\n",
              "      <td>48</td>\n",
              "      <td>0</td>\n",
              "      <td>0</td>\n",
              "      <td>0</td>\n",
              "      <td>0</td>\n",
              "      <td>77.00</td>\n",
              "      <td>0</td>\n",
              "      <td>0</td>\n",
              "    </tr>\n",
              "  </tbody>\n",
              "</table>\n",
              "</div>"
            ],
            "text/plain": [
              "   number of adults  number of children  number of weekend nights  \\\n",
              "0                 1                   1                         2   \n",
              "1                 1                   0                         1   \n",
              "2                 2                   1                         1   \n",
              "3                 1                   0                         0   \n",
              "4                 1                   0                         1   \n",
              "\n",
              "   number of week nights  type of meal  car parking space  room type  \\\n",
              "0                      5             0                  0          0   \n",
              "1                      3             1                  0          0   \n",
              "2                      3             0                  0          0   \n",
              "3                      2             0                  0          0   \n",
              "4                      2             1                  0          0   \n",
              "\n",
              "   lead time  market segment type  repeated  P-C  P-not-C  average price   \\\n",
              "0        224                    1         0    0        0           88.00   \n",
              "1          5                    0         0    0        0          106.68   \n",
              "2          1                    0         0    0        0           50.00   \n",
              "3        211                    0         0    0        0          100.00   \n",
              "4         48                    0         0    0        0           77.00   \n",
              "\n",
              "   special requests  booking status  \n",
              "0                 0               1  \n",
              "1                 1               1  \n",
              "2                 0               0  \n",
              "3                 1               0  \n",
              "4                 0               0  "
            ]
          },
          "execution_count": 29,
          "metadata": {},
          "output_type": "execute_result"
        }
      ],
      "source": [
        "data . head()"
      ]
    },
    {
      "cell_type": "code",
      "execution_count": 30,
      "metadata": {},
      "outputs": [
        {
          "data": {
            "text/plain": [
              "booking status\n",
              "1    24396\n",
              "0    11889\n",
              "Name: count, dtype: int64"
            ]
          },
          "execution_count": 30,
          "metadata": {},
          "output_type": "execute_result"
        }
      ],
      "source": [
        "data['booking status'].value_counts()"
      ]
    },
    {
      "cell_type": "code",
      "execution_count": 31,
      "metadata": {
        "id": "CGXVIWzJuM5D"
      },
      "outputs": [],
      "source": [
        "x = data.drop('booking status', axis=1)\n",
        "y = data['booking status']"
      ]
    },
    {
      "cell_type": "code",
      "execution_count": 32,
      "metadata": {
        "id": "jaAPbDQZffpn"
      },
      "outputs": [
        {
          "data": {
            "application/vnd.microsoft.datawrangler.viewer.v0+json": {
              "columns": [
                {
                  "name": "index",
                  "rawType": "object",
                  "type": "string"
                },
                {
                  "name": "number of adults",
                  "rawType": "float64",
                  "type": "float"
                },
                {
                  "name": "number of children",
                  "rawType": "float64",
                  "type": "float"
                },
                {
                  "name": "number of weekend nights",
                  "rawType": "float64",
                  "type": "float"
                },
                {
                  "name": "number of week nights",
                  "rawType": "float64",
                  "type": "float"
                },
                {
                  "name": "type of meal",
                  "rawType": "float64",
                  "type": "float"
                },
                {
                  "name": "car parking space",
                  "rawType": "float64",
                  "type": "float"
                },
                {
                  "name": "room type",
                  "rawType": "float64",
                  "type": "float"
                },
                {
                  "name": "lead time",
                  "rawType": "float64",
                  "type": "float"
                },
                {
                  "name": "market segment type",
                  "rawType": "float64",
                  "type": "float"
                },
                {
                  "name": "repeated",
                  "rawType": "float64",
                  "type": "float"
                },
                {
                  "name": "P-C",
                  "rawType": "float64",
                  "type": "float"
                },
                {
                  "name": "P-not-C",
                  "rawType": "float64",
                  "type": "float"
                },
                {
                  "name": "average price ",
                  "rawType": "float64",
                  "type": "float"
                },
                {
                  "name": "special requests",
                  "rawType": "float64",
                  "type": "float"
                },
                {
                  "name": "booking status",
                  "rawType": "float64",
                  "type": "float"
                }
              ],
              "conversionMethod": "pd.DataFrame",
              "ref": "ed97df6b-cbb9-4d7e-b431-fa90dceba526",
              "rows": [
                [
                  "count",
                  "36285.0",
                  "36285.0",
                  "36285.0",
                  "36285.0",
                  "36285.0",
                  "36285.0",
                  "36285.0",
                  "36285.0",
                  "36285.0",
                  "36285.0",
                  "36285.0",
                  "36285.0",
                  "36285.0",
                  "36285.0",
                  "36285.0"
                ],
                [
                  "mean",
                  "1.844839465343806",
                  "0.10536034173901061",
                  "0.8106931238803914",
                  "2.204602452804189",
                  "0.32407330852969546",
                  "0.030976987735979053",
                  "0.3408571034862891",
                  "85.2398511781728",
                  "0.4475127463139038",
                  "0.025630425795783382",
                  "0.02334297919250379",
                  "0.15336916081025218",
                  "103.4216359377153",
                  "0.6197326719029902",
                  "0.6723439437784209"
                ],
                [
                  "std",
                  "0.5188128230819666",
                  "0.4027044301360629",
                  "0.8705904698398622",
                  "1.4109458336429317",
                  "0.6341228025573556",
                  "0.17325773072929349",
                  "0.8193765921612991",
                  "85.93879576250339",
                  "0.6814891906402284",
                  "0.1580322604662628",
                  "0.36828089163350247",
                  "1.7539308155096671",
                  "35.08646941276667",
                  "0.7862622590170196",
                  "0.4693651419975535"
                ],
                [
                  "min",
                  "0.0",
                  "0.0",
                  "0.0",
                  "0.0",
                  "0.0",
                  "0.0",
                  "0.0",
                  "0.0",
                  "0.0",
                  "0.0",
                  "0.0",
                  "0.0",
                  "0.0",
                  "0.0",
                  "0.0"
                ],
                [
                  "25%",
                  "2.0",
                  "0.0",
                  "0.0",
                  "1.0",
                  "0.0",
                  "0.0",
                  "0.0",
                  "17.0",
                  "0.0",
                  "0.0",
                  "0.0",
                  "0.0",
                  "80.3",
                  "0.0",
                  "0.0"
                ],
                [
                  "50%",
                  "2.0",
                  "0.0",
                  "1.0",
                  "2.0",
                  "0.0",
                  "0.0",
                  "0.0",
                  "57.0",
                  "0.0",
                  "0.0",
                  "0.0",
                  "0.0",
                  "99.45",
                  "0.0",
                  "1.0"
                ],
                [
                  "75%",
                  "2.0",
                  "0.0",
                  "2.0",
                  "3.0",
                  "0.0",
                  "0.0",
                  "0.0",
                  "126.0",
                  "1.0",
                  "0.0",
                  "0.0",
                  "0.0",
                  "120.0",
                  "1.0",
                  "1.0"
                ],
                [
                  "max",
                  "4.0",
                  "10.0",
                  "7.0",
                  "17.0",
                  "3.0",
                  "1.0",
                  "6.0",
                  "443.0",
                  "4.0",
                  "1.0",
                  "13.0",
                  "58.0",
                  "540.0",
                  "5.0",
                  "1.0"
                ]
              ],
              "shape": {
                "columns": 15,
                "rows": 8
              }
            },
            "text/html": [
              "<div>\n",
              "<style scoped>\n",
              "    .dataframe tbody tr th:only-of-type {\n",
              "        vertical-align: middle;\n",
              "    }\n",
              "\n",
              "    .dataframe tbody tr th {\n",
              "        vertical-align: top;\n",
              "    }\n",
              "\n",
              "    .dataframe thead th {\n",
              "        text-align: right;\n",
              "    }\n",
              "</style>\n",
              "<table border=\"1\" class=\"dataframe\">\n",
              "  <thead>\n",
              "    <tr style=\"text-align: right;\">\n",
              "      <th></th>\n",
              "      <th>number of adults</th>\n",
              "      <th>number of children</th>\n",
              "      <th>number of weekend nights</th>\n",
              "      <th>number of week nights</th>\n",
              "      <th>type of meal</th>\n",
              "      <th>car parking space</th>\n",
              "      <th>room type</th>\n",
              "      <th>lead time</th>\n",
              "      <th>market segment type</th>\n",
              "      <th>repeated</th>\n",
              "      <th>P-C</th>\n",
              "      <th>P-not-C</th>\n",
              "      <th>average price</th>\n",
              "      <th>special requests</th>\n",
              "      <th>booking status</th>\n",
              "    </tr>\n",
              "  </thead>\n",
              "  <tbody>\n",
              "    <tr>\n",
              "      <th>count</th>\n",
              "      <td>36285.000000</td>\n",
              "      <td>36285.000000</td>\n",
              "      <td>36285.000000</td>\n",
              "      <td>36285.000000</td>\n",
              "      <td>36285.000000</td>\n",
              "      <td>36285.000000</td>\n",
              "      <td>36285.000000</td>\n",
              "      <td>36285.000000</td>\n",
              "      <td>36285.000000</td>\n",
              "      <td>36285.000000</td>\n",
              "      <td>36285.000000</td>\n",
              "      <td>36285.000000</td>\n",
              "      <td>36285.000000</td>\n",
              "      <td>36285.000000</td>\n",
              "      <td>36285.000000</td>\n",
              "    </tr>\n",
              "    <tr>\n",
              "      <th>mean</th>\n",
              "      <td>1.844839</td>\n",
              "      <td>0.105360</td>\n",
              "      <td>0.810693</td>\n",
              "      <td>2.204602</td>\n",
              "      <td>0.324073</td>\n",
              "      <td>0.030977</td>\n",
              "      <td>0.340857</td>\n",
              "      <td>85.239851</td>\n",
              "      <td>0.447513</td>\n",
              "      <td>0.025630</td>\n",
              "      <td>0.023343</td>\n",
              "      <td>0.153369</td>\n",
              "      <td>103.421636</td>\n",
              "      <td>0.619733</td>\n",
              "      <td>0.672344</td>\n",
              "    </tr>\n",
              "    <tr>\n",
              "      <th>std</th>\n",
              "      <td>0.518813</td>\n",
              "      <td>0.402704</td>\n",
              "      <td>0.870590</td>\n",
              "      <td>1.410946</td>\n",
              "      <td>0.634123</td>\n",
              "      <td>0.173258</td>\n",
              "      <td>0.819377</td>\n",
              "      <td>85.938796</td>\n",
              "      <td>0.681489</td>\n",
              "      <td>0.158032</td>\n",
              "      <td>0.368281</td>\n",
              "      <td>1.753931</td>\n",
              "      <td>35.086469</td>\n",
              "      <td>0.786262</td>\n",
              "      <td>0.469365</td>\n",
              "    </tr>\n",
              "    <tr>\n",
              "      <th>min</th>\n",
              "      <td>0.000000</td>\n",
              "      <td>0.000000</td>\n",
              "      <td>0.000000</td>\n",
              "      <td>0.000000</td>\n",
              "      <td>0.000000</td>\n",
              "      <td>0.000000</td>\n",
              "      <td>0.000000</td>\n",
              "      <td>0.000000</td>\n",
              "      <td>0.000000</td>\n",
              "      <td>0.000000</td>\n",
              "      <td>0.000000</td>\n",
              "      <td>0.000000</td>\n",
              "      <td>0.000000</td>\n",
              "      <td>0.000000</td>\n",
              "      <td>0.000000</td>\n",
              "    </tr>\n",
              "    <tr>\n",
              "      <th>25%</th>\n",
              "      <td>2.000000</td>\n",
              "      <td>0.000000</td>\n",
              "      <td>0.000000</td>\n",
              "      <td>1.000000</td>\n",
              "      <td>0.000000</td>\n",
              "      <td>0.000000</td>\n",
              "      <td>0.000000</td>\n",
              "      <td>17.000000</td>\n",
              "      <td>0.000000</td>\n",
              "      <td>0.000000</td>\n",
              "      <td>0.000000</td>\n",
              "      <td>0.000000</td>\n",
              "      <td>80.300000</td>\n",
              "      <td>0.000000</td>\n",
              "      <td>0.000000</td>\n",
              "    </tr>\n",
              "    <tr>\n",
              "      <th>50%</th>\n",
              "      <td>2.000000</td>\n",
              "      <td>0.000000</td>\n",
              "      <td>1.000000</td>\n",
              "      <td>2.000000</td>\n",
              "      <td>0.000000</td>\n",
              "      <td>0.000000</td>\n",
              "      <td>0.000000</td>\n",
              "      <td>57.000000</td>\n",
              "      <td>0.000000</td>\n",
              "      <td>0.000000</td>\n",
              "      <td>0.000000</td>\n",
              "      <td>0.000000</td>\n",
              "      <td>99.450000</td>\n",
              "      <td>0.000000</td>\n",
              "      <td>1.000000</td>\n",
              "    </tr>\n",
              "    <tr>\n",
              "      <th>75%</th>\n",
              "      <td>2.000000</td>\n",
              "      <td>0.000000</td>\n",
              "      <td>2.000000</td>\n",
              "      <td>3.000000</td>\n",
              "      <td>0.000000</td>\n",
              "      <td>0.000000</td>\n",
              "      <td>0.000000</td>\n",
              "      <td>126.000000</td>\n",
              "      <td>1.000000</td>\n",
              "      <td>0.000000</td>\n",
              "      <td>0.000000</td>\n",
              "      <td>0.000000</td>\n",
              "      <td>120.000000</td>\n",
              "      <td>1.000000</td>\n",
              "      <td>1.000000</td>\n",
              "    </tr>\n",
              "    <tr>\n",
              "      <th>max</th>\n",
              "      <td>4.000000</td>\n",
              "      <td>10.000000</td>\n",
              "      <td>7.000000</td>\n",
              "      <td>17.000000</td>\n",
              "      <td>3.000000</td>\n",
              "      <td>1.000000</td>\n",
              "      <td>6.000000</td>\n",
              "      <td>443.000000</td>\n",
              "      <td>4.000000</td>\n",
              "      <td>1.000000</td>\n",
              "      <td>13.000000</td>\n",
              "      <td>58.000000</td>\n",
              "      <td>540.000000</td>\n",
              "      <td>5.000000</td>\n",
              "      <td>1.000000</td>\n",
              "    </tr>\n",
              "  </tbody>\n",
              "</table>\n",
              "</div>"
            ],
            "text/plain": [
              "       number of adults  number of children  number of weekend nights  \\\n",
              "count      36285.000000        36285.000000              36285.000000   \n",
              "mean           1.844839            0.105360                  0.810693   \n",
              "std            0.518813            0.402704                  0.870590   \n",
              "min            0.000000            0.000000                  0.000000   \n",
              "25%            2.000000            0.000000                  0.000000   \n",
              "50%            2.000000            0.000000                  1.000000   \n",
              "75%            2.000000            0.000000                  2.000000   \n",
              "max            4.000000           10.000000                  7.000000   \n",
              "\n",
              "       number of week nights  type of meal  car parking space     room type  \\\n",
              "count           36285.000000  36285.000000       36285.000000  36285.000000   \n",
              "mean                2.204602      0.324073           0.030977      0.340857   \n",
              "std                 1.410946      0.634123           0.173258      0.819377   \n",
              "min                 0.000000      0.000000           0.000000      0.000000   \n",
              "25%                 1.000000      0.000000           0.000000      0.000000   \n",
              "50%                 2.000000      0.000000           0.000000      0.000000   \n",
              "75%                 3.000000      0.000000           0.000000      0.000000   \n",
              "max                17.000000      3.000000           1.000000      6.000000   \n",
              "\n",
              "          lead time  market segment type      repeated           P-C  \\\n",
              "count  36285.000000         36285.000000  36285.000000  36285.000000   \n",
              "mean      85.239851             0.447513      0.025630      0.023343   \n",
              "std       85.938796             0.681489      0.158032      0.368281   \n",
              "min        0.000000             0.000000      0.000000      0.000000   \n",
              "25%       17.000000             0.000000      0.000000      0.000000   \n",
              "50%       57.000000             0.000000      0.000000      0.000000   \n",
              "75%      126.000000             1.000000      0.000000      0.000000   \n",
              "max      443.000000             4.000000      1.000000     13.000000   \n",
              "\n",
              "            P-not-C  average price   special requests  booking status  \n",
              "count  36285.000000    36285.000000      36285.000000    36285.000000  \n",
              "mean       0.153369      103.421636          0.619733        0.672344  \n",
              "std        1.753931       35.086469          0.786262        0.469365  \n",
              "min        0.000000        0.000000          0.000000        0.000000  \n",
              "25%        0.000000       80.300000          0.000000        0.000000  \n",
              "50%        0.000000       99.450000          0.000000        1.000000  \n",
              "75%        0.000000      120.000000          1.000000        1.000000  \n",
              "max       58.000000      540.000000          5.000000        1.000000  "
            ]
          },
          "execution_count": 32,
          "metadata": {},
          "output_type": "execute_result"
        }
      ],
      "source": [
        "data . describe()"
      ]
    },
    {
      "cell_type": "code",
      "execution_count": 33,
      "metadata": {},
      "outputs": [],
      "source": [
        "# feature scaling\n",
        "from sklearn.preprocessing import StandardScaler\n",
        "sc = StandardScaler()\n",
        "data = sc.fit_transform(data)"
      ]
    },
    {
      "cell_type": "code",
      "execution_count": 34,
      "metadata": {},
      "outputs": [],
      "source": [
        "from sklearn.cluster import KMeans"
      ]
    },
    {
      "cell_type": "code",
      "execution_count": 35,
      "metadata": {},
      "outputs": [],
      "source": [
        "# Import Required Libraries\n",
        "import matplotlib.pyplot as plt\n",
        "from sklearn.cluster import KMeans"
      ]
    },
    {
      "cell_type": "code",
      "execution_count": 36,
      "metadata": {},
      "outputs": [
        {
          "name": "stderr",
          "output_type": "stream",
          "text": [
            "c:\\Users\\Dell\\anaconda3\\Lib\\site-packages\\joblib\\externals\\loky\\backend\\context.py:136: UserWarning: Could not find the number of physical cores for the following reason:\n",
            "[WinError 2] The system cannot find the file specified\n",
            "Returning the number of logical cores instead. You can silence this warning by setting LOKY_MAX_CPU_COUNT to the number of cores you want to use.\n",
            "  warnings.warn(\n",
            "  File \"c:\\Users\\Dell\\anaconda3\\Lib\\site-packages\\joblib\\externals\\loky\\backend\\context.py\", line 257, in _count_physical_cores\n",
            "    cpu_info = subprocess.run(\n",
            "               ^^^^^^^^^^^^^^^\n",
            "  File \"c:\\Users\\Dell\\anaconda3\\Lib\\subprocess.py\", line 548, in run\n",
            "    with Popen(*popenargs, **kwargs) as process:\n",
            "         ^^^^^^^^^^^^^^^^^^^^^^^^^^^\n",
            "  File \"c:\\Users\\Dell\\anaconda3\\Lib\\subprocess.py\", line 1026, in __init__\n",
            "    self._execute_child(args, executable, preexec_fn, close_fds,\n",
            "  File \"c:\\Users\\Dell\\anaconda3\\Lib\\subprocess.py\", line 1538, in _execute_child\n",
            "    hp, ht, pid, tid = _winapi.CreateProcess(executable, args,\n",
            "                       ^^^^^^^^^^^^^^^^^^^^^^^^^^^^^^^^^^^^^^^\n"
          ]
        },
        {
          "data": {
            "image/png": "[encoded data removed]",
            "text/plain": [
              "<Figure size 800x500 with 1 Axes>"
            ]
          },
          "metadata": {},
          "output_type": "display_data"
        }
      ],
      "source": [
        "# Apply KMeans Clustering\n",
        "inertia = []  # List to store the inertia values for different k\n",
        "\n",
        "# Apply KMeans clustering with different values of k\n",
        "for k in range(1, 11):\n",
        "    kmeans = KMeans(n_clusters=k, random_state=42)\n",
        "    kmeans.fit(data)\n",
        "    inertia.append(kmeans.inertia_)\n",
        "\n",
        "# Plot the Elbow Method graph\n",
        "plt.figure(figsize=(8, 5))\n",
        "plt.plot(range(1, 11), inertia, marker='o')\n",
        "plt.title('Elbow Method For Optimal k')\n",
        "plt.xlabel('Number of clusters (k)')\n",
        "plt.ylabel('Inertia')\n",
        "plt.show()"
      ]
    },
    {
      "cell_type": "code",
      "execution_count": 41,
      "metadata": {},
      "outputs": [],
      "source": [
        "kmeans = KMeans(n_clusters=6)"
      ]
    },
    {
      "cell_type": "code",
      "execution_count": 42,
      "metadata": {},
      "outputs": [
        {
          "data": {
            "text/html": [
              "<style>#sk-container-id-2 {\n",
              "  /* Definition of color scheme common for light and dark mode */\n",
              "  --sklearn-color-text: black;\n",
              "  --sklearn-color-line: gray;\n",
              "  /* Definition of color scheme for unfitted estimators */\n",
              "  --sklearn-color-unfitted-level-0: #fff5e6;\n",
              "  --sklearn-color-unfitted-level-1: #f6e4d2;\n",
              "  --sklearn-color-unfitted-level-2: #ffe0b3;\n",
              "  --sklearn-color-unfitted-level-3: chocolate;\n",
              "  /* Definition of color scheme for fitted estimators */\n",
              "  --sklearn-color-fitted-level-0: #f0f8ff;\n",
              "  --sklearn-color-fitted-level-1: #d4ebff;\n",
              "  --sklearn-color-fitted-level-2: #b3dbfd;\n",
              "  --sklearn-color-fitted-level-3: cornflowerblue;\n",
              "\n",
              "  /* Specific color for light theme */\n",
              "  --sklearn-color-text-on-default-background: var(--sg-text-color, var(--theme-code-foreground, var(--jp-content-font-color1, black)));\n",
              "  --sklearn-color-background: var(--sg-background-color, var(--theme-background, var(--jp-layout-color0, white)));\n",
              "  --sklearn-color-border-box: var(--sg-text-color, var(--theme-code-foreground, var(--jp-content-font-color1, black)));\n",
              "  --sklearn-color-icon: #696969;\n",
              "\n",
              "  @media (prefers-color-scheme: dark) {\n",
              "    /* Redefinition of color scheme for dark theme */\n",
              "    --sklearn-color-text-on-default-background: var(--sg-text-color, var(--theme-code-foreground, var(--jp-content-font-color1, white)));\n",
              "    --sklearn-color-background: var(--sg-background-color, var(--theme-background, var(--jp-layout-color0, #111)));\n",
              "    --sklearn-color-border-box: var(--sg-text-color, var(--theme-code-foreground, var(--jp-content-font-color1, white)));\n",
              "    --sklearn-color-icon: #878787;\n",
              "  }\n",
              "}\n",
              "\n",
              "#sk-container-id-2 {\n",
              "  color: var(--sklearn-color-text);\n",
              "}\n",
              "\n",
              "#sk-container-id-2 pre {\n",
              "  padding: 0;\n",
              "}\n",
              "\n",
              "#sk-container-id-2 input.sk-hidden--visually {\n",
              "  border: 0;\n",
              "  clip: rect(1px 1px 1px 1px);\n",
              "  clip: rect(1px, 1px, 1px, 1px);\n",
              "  height: 1px;\n",
              "  margin: -1px;\n",
              "  overflow: hidden;\n",
              "  padding: 0;\n",
              "  position: absolute;\n",
              "  width: 1px;\n",
              "}\n",
              "\n",
              "#sk-container-id-2 div.sk-dashed-wrapped {\n",
              "  border: 1px dashed var(--sklearn-color-line);\n",
              "  margin: 0 0.4em 0.5em 0.4em;\n",
              "  box-sizing: border-box;\n",
              "  padding-bottom: 0.4em;\n",
              "  background-color: var(--sklearn-color-background);\n",
              "}\n",
              "\n",
              "#sk-container-id-2 div.sk-container {\n",
              "  /* jupyter's `normalize.less` sets `[hidden] { display: none; }`\n",
              "     but bootstrap.min.css set `[hidden] { display: none !important; }`\n",
              "     so we also need the `!important` here to be able to override the\n",
              "     default hidden behavior on the sphinx rendered scikit-learn.org.\n",
              "     See: https://github.com/scikit-learn/scikit-learn/issues/21755 */\n",
              "  display: inline-block !important;\n",
              "  position: relative;\n",
              "}\n",
              "\n",
              "#sk-container-id-2 div.sk-text-repr-fallback {\n",
              "  display: none;\n",
              "}\n",
              "\n",
              "div.sk-parallel-item,\n",
              "div.sk-serial,\n",
              "div.sk-item {\n",
              "  /* draw centered vertical line to link estimators */\n",
              "  background-image: linear-gradient(var(--sklearn-color-text-on-default-background), var(--sklearn-color-text-on-default-background));\n",
              "  background-size: 2px 100%;\n",
              "  background-repeat: no-repeat;\n",
              "  background-position: center center;\n",
              "}\n",
              "\n",
              "/* Parallel-specific style estimator block */\n",
              "\n",
              "#sk-container-id-2 div.sk-parallel-item::after {\n",
              "  content: \"\";\n",
              "  width: 100%;\n",
              "  border-bottom: 2px solid var(--sklearn-color-text-on-default-background);\n",
              "  flex-grow: 1;\n",
              "}\n",
              "\n",
              "#sk-container-id-2 div.sk-parallel {\n",
              "  display: flex;\n",
              "  align-items: stretch;\n",
              "  justify-content: center;\n",
              "  background-color: var(--sklearn-color-background);\n",
              "  position: relative;\n",
              "}\n",
              "\n",
              "#sk-container-id-2 div.sk-parallel-item {\n",
              "  display: flex;\n",
              "  flex-direction: column;\n",
              "}\n",
              "\n",
              "#sk-container-id-2 div.sk-parallel-item:first-child::after {\n",
              "  align-self: flex-end;\n",
              "  width: 50%;\n",
              "}\n",
              "\n",
              "#sk-container-id-2 div.sk-parallel-item:last-child::after {\n",
              "  align-self: flex-start;\n",
              "  width: 50%;\n",
              "}\n",
              "\n",
              "#sk-container-id-2 div.sk-parallel-item:only-child::after {\n",
              "  width: 0;\n",
              "}\n",
              "\n",
              "/* Serial-specific style estimator block */\n",
              "\n",
              "#sk-container-id-2 div.sk-serial {\n",
              "  display: flex;\n",
              "  flex-direction: column;\n",
              "  align-items: center;\n",
              "  background-color: var(--sklearn-color-background);\n",
              "  padding-right: 1em;\n",
              "  padding-left: 1em;\n",
              "}\n",
              "\n",
              "\n",
              "/* Toggleable style: style used for estimator/Pipeline/ColumnTransformer box that is\n",
              "clickable and can be expanded/collapsed.\n",
              "- Pipeline and ColumnTransformer use this feature and define the default style\n",
              "- Estimators will overwrite some part of the style using the `sk-estimator` class\n",
              "*/\n",
              "\n",
              "/* Pipeline and ColumnTransformer style (default) */\n",
              "\n",
              "#sk-container-id-2 div.sk-toggleable {\n",
              "  /* Default theme specific background. It is overwritten whether we have a\n",
              "  specific estimator or a Pipeline/ColumnTransformer */\n",
              "  background-color: var(--sklearn-color-background);\n",
              "}\n",
              "\n",
              "/* Toggleable label */\n",
              "#sk-container-id-2 label.sk-toggleable__label {\n",
              "  cursor: pointer;\n",
              "  display: block;\n",
              "  width: 100%;\n",
              "  margin-bottom: 0;\n",
              "  padding: 0.5em;\n",
              "  box-sizing: border-box;\n",
              "  text-align: center;\n",
              "}\n",
              "\n",
              "#sk-container-id-2 label.sk-toggleable__label-arrow:before {\n",
              "  /* Arrow on the left of the label */\n",
              "  content: \"▸\";\n",
              "  float: left;\n",
              "  margin-right: 0.25em;\n",
              "  color: var(--sklearn-color-icon);\n",
              "}\n",
              "\n",
              "#sk-container-id-2 label.sk-toggleable__label-arrow:hover:before {\n",
              "  color: var(--sklearn-color-text);\n",
              "}\n",
              "\n",
              "/* Toggleable content - dropdown */\n",
              "\n",
              "#sk-container-id-2 div.sk-toggleable__content {\n",
              "  max-height: 0;\n",
              "  max-width: 0;\n",
              "  overflow: hidden;\n",
              "  text-align: left;\n",
              "  /* unfitted */\n",
              "  background-color: var(--sklearn-color-unfitted-level-0);\n",
              "}\n",
              "\n",
              "#sk-container-id-2 div.sk-toggleable__content.fitted {\n",
              "  /* fitted */\n",
              "  background-color: var(--sklearn-color-fitted-level-0);\n",
              "}\n",
              "\n",
              "#sk-container-id-2 div.sk-toggleable__content pre {\n",
              "  margin: 0.2em;\n",
              "  border-radius: 0.25em;\n",
              "  color: var(--sklearn-color-text);\n",
              "  /* unfitted */\n",
              "  background-color: var(--sklearn-color-unfitted-level-0);\n",
              "}\n",
              "\n",
              "#sk-container-id-2 div.sk-toggleable__content.fitted pre {\n",
              "  /* unfitted */\n",
              "  background-color: var(--sklearn-color-fitted-level-0);\n",
              "}\n",
              "\n",
              "#sk-container-id-2 input.sk-toggleable__control:checked~div.sk-toggleable__content {\n",
              "  /* Expand drop-down */\n",
              "  max-height: 200px;\n",
              "  max-width: 100%;\n",
              "  overflow: auto;\n",
              "}\n",
              "\n",
              "#sk-container-id-2 input.sk-toggleable__control:checked~label.sk-toggleable__label-arrow:before {\n",
              "  content: \"▾\";\n",
              "}\n",
              "\n",
              "/* Pipeline/ColumnTransformer-specific style */\n",
              "\n",
              "#sk-container-id-2 div.sk-label input.sk-toggleable__control:checked~label.sk-toggleable__label {\n",
              "  color: var(--sklearn-color-text);\n",
              "  background-color: var(--sklearn-color-unfitted-level-2);\n",
              "}\n",
              "\n",
              "#sk-container-id-2 div.sk-label.fitted input.sk-toggleable__control:checked~label.sk-toggleable__label {\n",
              "  background-color: var(--sklearn-color-fitted-level-2);\n",
              "}\n",
              "\n",
              "/* Estimator-specific style */\n",
              "\n",
              "/* Colorize estimator box */\n",
              "#sk-container-id-2 div.sk-estimator input.sk-toggleable__control:checked~label.sk-toggleable__label {\n",
              "  /* unfitted */\n",
              "  background-color: var(--sklearn-color-unfitted-level-2);\n",
              "}\n",
              "\n",
              "#sk-container-id-2 div.sk-estimator.fitted input.sk-toggleable__control:checked~label.sk-toggleable__label {\n",
              "  /* fitted */\n",
              "  background-color: var(--sklearn-color-fitted-level-2);\n",
              "}\n",
              "\n",
              "#sk-container-id-2 div.sk-label label.sk-toggleable__label,\n",
              "#sk-container-id-2 div.sk-label label {\n",
              "  /* The background is the default theme color */\n",
              "  color: var(--sklearn-color-text-on-default-background);\n",
              "}\n",
              "\n",
              "/* On hover, darken the color of the background */\n",
              "#sk-container-id-2 div.sk-label:hover label.sk-toggleable__label {\n",
              "  color: var(--sklearn-color-text);\n",
              "  background-color: var(--sklearn-color-unfitted-level-2);\n",
              "}\n",
              "\n",
              "/* Label box, darken color on hover, fitted */\n",
              "#sk-container-id-2 div.sk-label.fitted:hover label.sk-toggleable__label.fitted {\n",
              "  color: var(--sklearn-color-text);\n",
              "  background-color: var(--sklearn-color-fitted-level-2);\n",
              "}\n",
              "\n",
              "/* Estimator label */\n",
              "\n",
              "#sk-container-id-2 div.sk-label label {\n",
              "  font-family: monospace;\n",
              "  font-weight: bold;\n",
              "  display: inline-block;\n",
              "  line-height: 1.2em;\n",
              "}\n",
              "\n",
              "#sk-container-id-2 div.sk-label-container {\n",
              "  text-align: center;\n",
              "}\n",
              "\n",
              "/* Estimator-specific */\n",
              "#sk-container-id-2 div.sk-estimator {\n",
              "  font-family: monospace;\n",
              "  border: 1px dotted var(--sklearn-color-border-box);\n",
              "  border-radius: 0.25em;\n",
              "  box-sizing: border-box;\n",
              "  margin-bottom: 0.5em;\n",
              "  /* unfitted */\n",
              "  background-color: var(--sklearn-color-unfitted-level-0);\n",
              "}\n",
              "\n",
              "#sk-container-id-2 div.sk-estimator.fitted {\n",
              "  /* fitted */\n",
              "  background-color: var(--sklearn-color-fitted-level-0);\n",
              "}\n",
              "\n",
              "/* on hover */\n",
              "#sk-container-id-2 div.sk-estimator:hover {\n",
              "  /* unfitted */\n",
              "  background-color: var(--sklearn-color-unfitted-level-2);\n",
              "}\n",
              "\n",
              "#sk-container-id-2 div.sk-estimator.fitted:hover {\n",
              "  /* fitted */\n",
              "  background-color: var(--sklearn-color-fitted-level-2);\n",
              "}\n",
              "\n",
              "/* Specification for estimator info (e.g. \"i\" and \"?\") */\n",
              "\n",
              "/* Common style for \"i\" and \"?\" */\n",
              "\n",
              ".sk-estimator-doc-link,\n",
              "a:link.sk-estimator-doc-link,\n",
              "a:visited.sk-estimator-doc-link {\n",
              "  float: right;\n",
              "  font-size: smaller;\n",
              "  line-height: 1em;\n",
              "  font-family: monospace;\n",
              "  background-color: var(--sklearn-color-background);\n",
              "  border-radius: 1em;\n",
              "  height: 1em;\n",
              "  width: 1em;\n",
              "  text-decoration: none !important;\n",
              "  margin-left: 1ex;\n",
              "  /* unfitted */\n",
              "  border: var(--sklearn-color-unfitted-level-1) 1pt solid;\n",
              "  color: var(--sklearn-color-unfitted-level-1);\n",
              "}\n",
              "\n",
              ".sk-estimator-doc-link.fitted,\n",
              "a:link.sk-estimator-doc-link.fitted,\n",
              "a:visited.sk-estimator-doc-link.fitted {\n",
              "  /* fitted */\n",
              "  border: var(--sklearn-color-fitted-level-1) 1pt solid;\n",
              "  color: var(--sklearn-color-fitted-level-1);\n",
              "}\n",
              "\n",
              "/* On hover */\n",
              "div.sk-estimator:hover .sk-estimator-doc-link:hover,\n",
              ".sk-estimator-doc-link:hover,\n",
              "div.sk-label-container:hover .sk-estimator-doc-link:hover,\n",
              ".sk-estimator-doc-link:hover {\n",
              "  /* unfitted */\n",
              "  background-color: var(--sklearn-color-unfitted-level-3);\n",
              "  color: var(--sklearn-color-background);\n",
              "  text-decoration: none;\n",
              "}\n",
              "\n",
              "div.sk-estimator.fitted:hover .sk-estimator-doc-link.fitted:hover,\n",
              ".sk-estimator-doc-link.fitted:hover,\n",
              "div.sk-label-container:hover .sk-estimator-doc-link.fitted:hover,\n",
              ".sk-estimator-doc-link.fitted:hover {\n",
              "  /* fitted */\n",
              "  background-color: var(--sklearn-color-fitted-level-3);\n",
              "  color: var(--sklearn-color-background);\n",
              "  text-decoration: none;\n",
              "}\n",
              "\n",
              "/* Span, style for the box shown on hovering the info icon */\n",
              ".sk-estimator-doc-link span {\n",
              "  display: none;\n",
              "  z-index: 9999;\n",
              "  position: relative;\n",
              "  font-weight: normal;\n",
              "  right: .2ex;\n",
              "  padding: .5ex;\n",
              "  margin: .5ex;\n",
              "  width: min-content;\n",
              "  min-width: 20ex;\n",
              "  max-width: 50ex;\n",
              "  color: var(--sklearn-color-text);\n",
              "  box-shadow: 2pt 2pt 4pt #999;\n",
              "  /* unfitted */\n",
              "  background: var(--sklearn-color-unfitted-level-0);\n",
              "  border: .5pt solid var(--sklearn-color-unfitted-level-3);\n",
              "}\n",
              "\n",
              ".sk-estimator-doc-link.fitted span {\n",
              "  /* fitted */\n",
              "  background: var(--sklearn-color-fitted-level-0);\n",
              "  border: var(--sklearn-color-fitted-level-3);\n",
              "}\n",
              "\n",
              ".sk-estimator-doc-link:hover span {\n",
              "  display: block;\n",
              "}\n",
              "\n",
              "/* \"?\"-specific style due to the `<a>` HTML tag */\n",
              "\n",
              "#sk-container-id-2 a.estimator_doc_link {\n",
              "  float: right;\n",
              "  font-size: 1rem;\n",
              "  line-height: 1em;\n",
              "  font-family: monospace;\n",
              "  background-color: var(--sklearn-color-background);\n",
              "  border-radius: 1rem;\n",
              "  height: 1rem;\n",
              "  width: 1rem;\n",
              "  text-decoration: none;\n",
              "  /* unfitted */\n",
              "  color: var(--sklearn-color-unfitted-level-1);\n",
              "  border: var(--sklearn-color-unfitted-level-1) 1pt solid;\n",
              "}\n",
              "\n",
              "#sk-container-id-2 a.estimator_doc_link.fitted {\n",
              "  /* fitted */\n",
              "  border: var(--sklearn-color-fitted-level-1) 1pt solid;\n",
              "  color: var(--sklearn-color-fitted-level-1);\n",
              "}\n",
              "\n",
              "/* On hover */\n",
              "#sk-container-id-2 a.estimator_doc_link:hover {\n",
              "  /* unfitted */\n",
              "  background-color: var(--sklearn-color-unfitted-level-3);\n",
              "  color: var(--sklearn-color-background);\n",
              "  text-decoration: none;\n",
              "}\n",
              "\n",
              "#sk-container-id-2 a.estimator_doc_link.fitted:hover {\n",
              "  /* fitted */\n",
              "  background-color: var(--sklearn-color-fitted-level-3);\n",
              "}\n",
              "</style><div id=\"sk-container-id-2\" class=\"sk-top-container\"><div class=\"sk-text-repr-fallback\"><pre>KMeans(n_clusters=6)</pre><b>In a Jupyter environment, please rerun this cell to show the HTML representation or trust the notebook. <br />On GitHub, the HTML representation is unable to render, please try loading this page with nbviewer.org.</b></div><div class=\"sk-container\" hidden><div class=\"sk-item\"><div class=\"sk-estimator fitted sk-toggleable\"><input class=\"sk-toggleable__control sk-hidden--visually\" id=\"sk-estimator-id-2\" type=\"checkbox\" checked><label for=\"sk-estimator-id-2\" class=\"sk-toggleable__label fitted sk-toggleable__label-arrow fitted\">&nbsp;&nbsp;KMeans<a class=\"sk-estimator-doc-link fitted\" rel=\"noreferrer\" target=\"_blank\" href=\"https://scikit-learn.org/1.5/modules/generated/sklearn.cluster.KMeans.html\">?<span>Documentation for KMeans</span></a><span class=\"sk-estimator-doc-link fitted\">i<span>Fitted</span></span></label><div class=\"sk-toggleable__content fitted\"><pre>KMeans(n_clusters=6)</pre></div> </div></div></div></div>"
            ],
            "text/plain": [
              "KMeans(n_clusters=6)"
            ]
          },
          "execution_count": 42,
          "metadata": {},
          "output_type": "execute_result"
        }
      ],
      "source": [
        "kmeans.fit(data)"
      ]
    },
    {
      "cell_type": "code",
      "execution_count": 43,
      "metadata": {},
      "outputs": [
        {
          "data": {
            "text/plain": [
              "array([[ 3.64860936e-01, -8.67736222e-02,  1.42559573e-01,\n",
              "         7.62269684e-02, -1.20961801e-01,  1.69304133e-01,\n",
              "         1.16792093e-02, -3.29406936e-01, -5.94437340e-01,\n",
              "        -1.62187005e-01, -6.33845019e-02, -8.74443125e-02,\n",
              "         2.82925321e-01,  8.40937801e-01,  6.81325332e-01],\n",
              "       [-1.31139062e-01,  3.62649324e+00,  8.03537128e-02,\n",
              "         1.02071387e-01, -2.98387234e-01,  1.48133696e-01,\n",
              "         3.12933114e+00, -2.25160592e-01, -3.37076746e-01,\n",
              "        -1.53653075e-01, -6.33845019e-02, -8.66753903e-02,\n",
              "         1.73064478e+00,  2.75243103e-01, -1.33733031e-01],\n",
              "       [-1.20940883e+00, -2.29537197e-01, -4.39892618e-01,\n",
              "        -6.29730758e-01, -4.31380621e-01,  6.69006950e-01,\n",
              "        -2.01775437e-02, -8.38885196e-01,  2.15051236e+00,\n",
              "         6.16572210e+00,  1.03105399e+00,  2.33119534e+00,\n",
              "        -1.08922442e+00, -8.72702243e-02,  6.68049864e-01],\n",
              "       [ 1.70408677e-01, -1.51203860e-01,  8.26938535e-02,\n",
              "         1.30019361e-01,  1.59262121e-01, -1.39426151e-01,\n",
              "        -1.38745912e-01,  7.05426218e-01, -2.38451697e-01,\n",
              "        -1.62187005e-01, -6.33845019e-02, -8.74443125e-02,\n",
              "         1.19804153e-01, -3.71237715e-01, -1.41406663e+00],\n",
              "       [-4.60906581e-01, -2.26938591e-01, -2.18759127e-01,\n",
              "        -1.78656865e-01,  5.04518136e-02, -1.25919687e-01,\n",
              "        -3.00697748e-01, -2.46951884e-01,  7.73784317e-01,\n",
              "        -1.62187005e-01, -6.33845019e-02, -8.74443125e-02,\n",
              "        -5.82120858e-01, -5.92731510e-01,  6.39343327e-01],\n",
              "       [-9.52553412e-01, -2.61635546e-01, -1.40574847e-01,\n",
              "        -4.48764645e-01, -3.47220188e-01,  7.95670589e-01,\n",
              "         1.38751728e-01, -8.30936316e-01,  1.36337222e+00,\n",
              "         6.16572210e+00,  1.77098557e+01,  1.43737794e+01,\n",
              "        -1.05446917e+00,  3.76698554e-02,  5.87414315e-01]])"
            ]
          },
          "execution_count": 43,
          "metadata": {},
          "output_type": "execute_result"
        }
      ],
      "source": [
        "kmeans.cluster_centers_"
      ]
    },
    {
      "cell_type": "code",
      "execution_count": 44,
      "metadata": {},
      "outputs": [
        {
          "data": {
            "text/plain": [
              "array([4, 0, 3, ..., 0, 0, 0])"
            ]
          },
          "execution_count": 44,
          "metadata": {},
          "output_type": "execute_result"
        }
      ],
      "source": [
        "kmeans.labels_"
      ]
    },
    {
      "cell_type": "code",
      "execution_count": null,
      "metadata": {},
      "outputs": [],
      "source": []
    }
  ],
  "metadata": {
    "colab": {
      "provenance": []
    },
    "kernelspec": {
      "display_name": "base",
      "language": "python",
      "name": "python3"
    },
    "language_info": {
      "codemirror_mode": {
        "name": "ipython",
        "version": 3
      },
      "file_extension": ".py",
      "mimetype": "text/x-python",
      "name": "python",
      "nbconvert_exporter": "python",
      "pygments_lexer": "ipython3",
      "version": "3.12.7"
    }
  },
  "nbformat": 4,
  "nbformat_minor": 0
}
