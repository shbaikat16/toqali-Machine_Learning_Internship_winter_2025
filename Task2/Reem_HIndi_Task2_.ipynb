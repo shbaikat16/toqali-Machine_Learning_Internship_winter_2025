{
  "nbformat": 4,
  "nbformat_minor": 0,
  "metadata": {
    "colab": {
      "provenance": []
    },
    "kernelspec": {
      "name": "python3",
      "display_name": "Python 3"
    },
    "language_info": {
      "name": "python"
    }
  },
  "cells": [
    {
      "cell_type": "markdown",
      "source": [
        "**Install & import Required Libraries**"
      ],
      "metadata": {
        "id": "XuAGBO6B0fsO"
      }
    },
    {
      "cell_type": "code",
      "execution_count": 65,
      "metadata": {
        "colab": {
          "base_uri": "https://localhost:8080/"
        },
        "id": "q4DLDTOoyYp3",
        "outputId": "07314797-9f60-47ca-863b-1afe1dfceff3"
      },
      "outputs": [
        {
          "output_type": "stream",
          "name": "stdout",
          "text": [
            "Requirement already satisfied: category_encoders in /usr/local/lib/python3.11/dist-packages (2.8.0)\n",
            "Requirement already satisfied: numpy>=1.14.0 in /usr/local/lib/python3.11/dist-packages (from category_encoders) (1.26.4)\n",
            "Requirement already satisfied: pandas>=1.0.5 in /usr/local/lib/python3.11/dist-packages (from category_encoders) (2.2.2)\n",
            "Requirement already satisfied: patsy>=0.5.1 in /usr/local/lib/python3.11/dist-packages (from category_encoders) (1.0.1)\n",
            "Requirement already satisfied: scikit-learn>=1.6.0 in /usr/local/lib/python3.11/dist-packages (from category_encoders) (1.6.1)\n",
            "Requirement already satisfied: scipy>=1.0.0 in /usr/local/lib/python3.11/dist-packages (from category_encoders) (1.13.1)\n",
            "Requirement already satisfied: statsmodels>=0.9.0 in /usr/local/lib/python3.11/dist-packages (from category_encoders) (0.14.4)\n",
            "Requirement already satisfied: python-dateutil>=2.8.2 in /usr/local/lib/python3.11/dist-packages (from pandas>=1.0.5->category_encoders) (2.8.2)\n",
            "Requirement already satisfied: pytz>=2020.1 in /usr/local/lib/python3.11/dist-packages (from pandas>=1.0.5->category_encoders) (2025.1)\n",
            "Requirement already satisfied: tzdata>=2022.7 in /usr/local/lib/python3.11/dist-packages (from pandas>=1.0.5->category_encoders) (2025.1)\n",
            "Requirement already satisfied: joblib>=1.2.0 in /usr/local/lib/python3.11/dist-packages (from scikit-learn>=1.6.0->category_encoders) (1.4.2)\n",
            "Requirement already satisfied: threadpoolctl>=3.1.0 in /usr/local/lib/python3.11/dist-packages (from scikit-learn>=1.6.0->category_encoders) (3.5.0)\n",
            "Requirement already satisfied: packaging>=21.3 in /usr/local/lib/python3.11/dist-packages (from statsmodels>=0.9.0->category_encoders) (24.2)\n",
            "Requirement already satisfied: six>=1.5 in /usr/local/lib/python3.11/dist-packages (from python-dateutil>=2.8.2->pandas>=1.0.5->category_encoders) (1.17.0)\n"
          ]
        }
      ],
      "source": [
        "!pip install category_encoders\n",
        "\n",
        "import pandas as pd\n",
        "import seaborn as sns\n",
        "import matplotlib.pyplot as plt\n",
        "import numpy as np\n",
        "\n",
        "\n",
        "import category_encoders as ce\n",
        "from sklearn.preprocessing import RobustScaler, LabelEncoder\n",
        "from sklearn.model_selection import train_test_split, GridSearchCV, RandomizedSearchCV\n",
        "from sklearn.linear_model import LogisticRegression\n",
        "from sklearn.neighbors import KNeighborsClassifier\n",
        "import xgboost as xgb\n",
        "\n"
      ]
    },
    {
      "cell_type": "markdown",
      "source": [
        "**Data Understanding**"
      ],
      "metadata": {
        "id": "WdNVyqN105GR"
      }
    },
    {
      "cell_type": "code",
      "source": [
        "df = pd.read_csv(\"/content/first inten project.csv\")\n",
        "\n",
        "print(df.info())\n",
        "print(df.describe())\n",
        "print(df.isnull().sum())\n",
        "print(df.duplicated().sum())"
      ],
      "metadata": {
        "colab": {
          "base_uri": "https://localhost:8080/"
        },
        "id": "vhkwtQ8myaMe",
        "outputId": "1175e461-e93b-4fb8-cbda-65cbc9c0040f"
      },
      "execution_count": 66,
      "outputs": [
        {
          "output_type": "stream",
          "name": "stdout",
          "text": [
            "<class 'pandas.core.frame.DataFrame'>\n",
            "RangeIndex: 36285 entries, 0 to 36284\n",
            "Data columns (total 17 columns):\n",
            " #   Column                    Non-Null Count  Dtype  \n",
            "---  ------                    --------------  -----  \n",
            " 0   Booking_ID                36285 non-null  object \n",
            " 1   number of adults          36285 non-null  int64  \n",
            " 2   number of children        36285 non-null  int64  \n",
            " 3   number of weekend nights  36285 non-null  int64  \n",
            " 4   number of week nights     36285 non-null  int64  \n",
            " 5   type of meal              36285 non-null  object \n",
            " 6   car parking space         36285 non-null  int64  \n",
            " 7   room type                 36285 non-null  object \n",
            " 8   lead time                 36285 non-null  int64  \n",
            " 9   market segment type       36285 non-null  object \n",
            " 10  repeated                  36285 non-null  int64  \n",
            " 11  P-C                       36285 non-null  int64  \n",
            " 12  P-not-C                   36285 non-null  int64  \n",
            " 13  average price             36285 non-null  float64\n",
            " 14  special requests          36285 non-null  int64  \n",
            " 15  date of reservation       36285 non-null  object \n",
            " 16  booking status            36285 non-null  object \n",
            "dtypes: float64(1), int64(10), object(6)\n",
            "memory usage: 4.7+ MB\n",
            "None\n",
            "       number of adults  number of children  number of weekend nights  \\\n",
            "count      36285.000000        36285.000000              36285.000000   \n",
            "mean           1.844839            0.105360                  0.810693   \n",
            "std            0.518813            0.402704                  0.870590   \n",
            "min            0.000000            0.000000                  0.000000   \n",
            "25%            2.000000            0.000000                  0.000000   \n",
            "50%            2.000000            0.000000                  1.000000   \n",
            "75%            2.000000            0.000000                  2.000000   \n",
            "max            4.000000           10.000000                  7.000000   \n",
            "\n",
            "       number of week nights  car parking space     lead time      repeated  \\\n",
            "count           36285.000000       36285.000000  36285.000000  36285.000000   \n",
            "mean                2.204602           0.030977     85.239851      0.025630   \n",
            "std                 1.410946           0.173258     85.938796      0.158032   \n",
            "min                 0.000000           0.000000      0.000000      0.000000   \n",
            "25%                 1.000000           0.000000     17.000000      0.000000   \n",
            "50%                 2.000000           0.000000     57.000000      0.000000   \n",
            "75%                 3.000000           0.000000    126.000000      0.000000   \n",
            "max                17.000000           1.000000    443.000000      1.000000   \n",
            "\n",
            "                P-C       P-not-C  average price   special requests  \n",
            "count  36285.000000  36285.000000    36285.000000      36285.000000  \n",
            "mean       0.023343      0.153369      103.421636          0.619733  \n",
            "std        0.368281      1.753931       35.086469          0.786262  \n",
            "min        0.000000      0.000000        0.000000          0.000000  \n",
            "25%        0.000000      0.000000       80.300000          0.000000  \n",
            "50%        0.000000      0.000000       99.450000          0.000000  \n",
            "75%        0.000000      0.000000      120.000000          1.000000  \n",
            "max       13.000000     58.000000      540.000000          5.000000  \n",
            "Booking_ID                  0\n",
            "number of adults            0\n",
            "number of children          0\n",
            "number of weekend nights    0\n",
            "number of week nights       0\n",
            "type of meal                0\n",
            "car parking space           0\n",
            "room type                   0\n",
            "lead time                   0\n",
            "market segment type         0\n",
            "repeated                    0\n",
            "P-C                         0\n",
            "P-not-C                     0\n",
            "average price               0\n",
            "special requests            0\n",
            "date of reservation         0\n",
            "booking status              0\n",
            "dtype: int64\n",
            "0\n"
          ]
        }
      ]
    },
    {
      "cell_type": "markdown",
      "source": [
        "**Feature Engineering & Selection**"
      ],
      "metadata": {
        "id": "C3FZRf9y0bTi"
      }
    },
    {
      "cell_type": "code",
      "source": [
        "df.columns = df.columns.str.strip()\n",
        "df['date of reservation'] = pd.to_datetime(df['date of reservation'], errors='coerce')\n",
        "df.dropna(inplace=True)  # Drop rows with invalid dates\n",
        "\n",
        "df[\"year\"] = df[\"date of reservation\"].dt.year.astype(int)\n",
        "df[\"month\"] = df[\"date of reservation\"].dt.month.astype(int)\n",
        "\n",
        "df[\"is_weekend\"] = df[\"date of reservation\"].dt.weekday.isin([5, 6]).astype(int)\n",
        "\n",
        "df['total_nights'] = df['number of weekend nights'] + df['number of week nights']\n",
        "\n",
        "df['guest_type'] = df.apply(lambda x: 'Family' if x['number of children'] > 0 else 'Individual/Couple', axis=1)\n",
        "\n",
        "df.drop(columns=[\"date of reservation\", 'P-C', 'P-not-C', 'Booking_ID', 'number of adults', 'number of children',\n",
        "                'number of weekend nights', 'number of week nights'], inplace=True)"
      ],
      "metadata": {
        "id": "sS57mGKnyjkY"
      },
      "execution_count": 67,
      "outputs": []
    },
    {
      "cell_type": "code",
      "source": [
        "label_encoder = LabelEncoder()\n",
        "df[\"booking_status\"] = label_encoder.fit_transform(df[\"booking status\"])\n",
        "df.drop(columns=[\"booking status\"], inplace=True)"
      ],
      "metadata": {
        "id": "P8vBFp4nzU6t"
      },
      "execution_count": 68,
      "outputs": []
    },
    {
      "cell_type": "code",
      "source": [
        "df[\"guest_type\"] = label_encoder.fit_transform(df[\"guest_type\"])\n",
        "\n",
        "target_encoder = ce.TargetEncoder(cols=[\"market segment type\"])\n",
        "df[\"market_segment_encoded\"] = target_encoder.fit_transform(df[\"market segment type\"], df[\"booking_status\"])\n",
        "df.drop(columns=[\"market segment type\"], inplace=True)\n",
        "df_encoded = pd.get_dummies(df, columns=['room type', 'type of meal'])"
      ],
      "metadata": {
        "id": "-2Zok-m2zW7B"
      },
      "execution_count": 69,
      "outputs": []
    },
    {
      "cell_type": "code",
      "source": [
        "columns_to_scale = ['lead time', 'average price', 'total_nights']\n",
        "scaler = RobustScaler()\n",
        "df_scaled = df_encoded.copy()\n",
        "df_scaled[columns_to_scale] = scaler.fit_transform(df_encoded[columns_to_scale])"
      ],
      "metadata": {
        "id": "yMRkk_Rcy4cZ"
      },
      "execution_count": 70,
      "outputs": []
    },
    {
      "cell_type": "code",
      "source": [
        "status_percentage = df_encoded['booking_status'].value_counts(normalize=True) * 100\n",
        "\n",
        "plt.figure(figsize=(8, 5))\n",
        "ax = sns.barplot(x=status_percentage.index, y=status_percentage, palette=['#ff9999', '#66b3ff'])\n",
        "plt.title('Percentage of Non-Cancellations & Cancellations')\n",
        "plt.xlabel('Is Canceled')\n",
        "plt.ylabel('Percentages (%)')\n",
        "plt.xticks(ticks=[0, 1], labels=['Not Canceled', 'Canceled'])\n",
        "plt.yticks(ticks=range(0, 80, 10))\n",
        "\n",
        "plt.show()"
      ],
      "metadata": {
        "colab": {
          "base_uri": "https://localhost:8080/",
          "height": 574
        },
        "id": "PDlZeRK5yoM_",
        "outputId": "51c6c913-a683-483a-8b90-21b86ef6d951"
      },
      "execution_count": 71,
      "outputs": [
        {
          "output_type": "stream",
          "name": "stderr",
          "text": [
            "<ipython-input-71-a3005e7ce6f6>:4: FutureWarning: \n",
            "\n",
            "Passing `palette` without assigning `hue` is deprecated and will be removed in v0.14.0. Assign the `x` variable to `hue` and set `legend=False` for the same effect.\n",
            "\n",
            "  ax = sns.barplot(x=status_percentage.index, y=status_percentage, palette=['#ff9999', '#66b3ff'])\n"
          ]
        },
        {
          "output_type": "display_data",
          "data": {
            "text/plain": [
              "<Figure size 800x500 with 1 Axes>"
            ],
            "image/png": "[encoded data removed]"
          },
          "metadata": {}
        }
      ]
    },
    {
      "cell_type": "markdown",
      "source": [
        "**Train-test split**"
      ],
      "metadata": {
        "id": "sHJwZm112OYX"
      }
    },
    {
      "cell_type": "code",
      "source": [
        "X = df_scaled.drop(columns='booking_status', axis=1)\n",
        "y = df_scaled['booking_status']\n",
        "\n",
        "X_train, X_test, y_train, y_test = train_test_split(X, y, test_size=0.2, random_state=42, stratify=y)"
      ],
      "metadata": {
        "id": "BgIDCFYHy7Jp"
      },
      "execution_count": 72,
      "outputs": []
    },
    {
      "cell_type": "markdown",
      "source": [
        "**Logistic Regrresion**"
      ],
      "metadata": {
        "id": "wuC99uF1yayc"
      }
    },
    {
      "cell_type": "code",
      "source": [
        "log_reg = LogisticRegression(max_iter=1000)\n",
        "log_reg.fit(X_train, y_train)\n",
        "\n",
        "y_pred_log_reg = log_reg.predict(X_test)\n",
        "\n",
        "print(\"Logistic Regression Classification Report:\")\n",
        "print(classification_report(y_test, y_pred_log_reg))"
      ],
      "metadata": {
        "colab": {
          "base_uri": "https://localhost:8080/"
        },
        "id": "8wIcFpT6y8Id",
        "outputId": "7f6816b1-d4d5-4e97-bec0-d66eea30dea3"
      },
      "execution_count": 73,
      "outputs": [
        {
          "output_type": "stream",
          "name": "stdout",
          "text": [
            "Logistic Regression Classification Report:\n",
            "              precision    recall  f1-score   support\n",
            "\n",
            "           0       0.72      0.57      0.64      2377\n",
            "           1       0.81      0.89      0.85      4873\n",
            "\n",
            "    accuracy                           0.79      7250\n",
            "   macro avg       0.77      0.73      0.74      7250\n",
            "weighted avg       0.78      0.79      0.78      7250\n",
            "\n"
          ]
        },
        {
          "output_type": "stream",
          "name": "stderr",
          "text": [
            "/usr/local/lib/python3.11/dist-packages/sklearn/linear_model/_logistic.py:465: ConvergenceWarning: lbfgs failed to converge (status=1):\n",
            "STOP: TOTAL NO. of ITERATIONS REACHED LIMIT.\n",
            "\n",
            "Increase the number of iterations (max_iter) or scale the data as shown in:\n",
            "    https://scikit-learn.org/stable/modules/preprocessing.html\n",
            "Please also refer to the documentation for alternative solver options:\n",
            "    https://scikit-learn.org/stable/modules/linear_model.html#logistic-regression\n",
            "  n_iter_i = _check_optimize_result(\n"
          ]
        }
      ]
    },
    {
      "cell_type": "markdown",
      "source": [
        "**K-Nearest Neighbors (KNN)**"
      ],
      "metadata": {
        "id": "zLSOvzXy2c1X"
      }
    },
    {
      "cell_type": "code",
      "source": [
        "knn = KNeighborsClassifier(n_neighbors=5)\n",
        "knn.fit(X_train, y_train)\n",
        "\n",
        "y_pred_knn = knn.predict(X_test)\n",
        "\n",
        "print(\"KNN Classification Report:\")\n",
        "print(classification_report(y_test, y_pred_knn))"
      ],
      "metadata": {
        "colab": {
          "base_uri": "https://localhost:8080/"
        },
        "id": "BB1So7FRzjFz",
        "outputId": "b2e93ecf-a5e4-4e15-9bdd-4c05c6ffdb33"
      },
      "execution_count": 74,
      "outputs": [
        {
          "output_type": "stream",
          "name": "stdout",
          "text": [
            "KNN Classification Report:\n",
            "              precision    recall  f1-score   support\n",
            "\n",
            "           0       0.78      0.74      0.76      2377\n",
            "           1       0.88      0.90      0.89      4873\n",
            "\n",
            "    accuracy                           0.85      7250\n",
            "   macro avg       0.83      0.82      0.82      7250\n",
            "weighted avg       0.85      0.85      0.85      7250\n",
            "\n"
          ]
        }
      ]
    },
    {
      "cell_type": "markdown",
      "source": [
        "**XGBoost Classifier**"
      ],
      "metadata": {
        "id": "eZPsKr9K2fwO"
      }
    },
    {
      "cell_type": "code",
      "source": [
        "xgb_clf = xgb.XGBClassifier(n_estimators=100, learning_rate=0.1, max_depth=6, random_state=42)\n",
        "xgb_clf.fit(X_train, y_train)\n",
        "\n",
        "y_pred_xgb = xgb_clf.predict(X_test)\n",
        "\n",
        "print(\"XGBoost Classification Report:\")\n",
        "print(classification_report(y_test, y_pred_xgb))"
      ],
      "metadata": {
        "colab": {
          "base_uri": "https://localhost:8080/"
        },
        "id": "mLFXwX4uztGt",
        "outputId": "7c8fe766-11e3-4165-9870-30b18d2aa104"
      },
      "execution_count": 75,
      "outputs": [
        {
          "output_type": "stream",
          "name": "stdout",
          "text": [
            "XGBoost Classification Report:\n",
            "              precision    recall  f1-score   support\n",
            "\n",
            "           0       0.83      0.77      0.80      2377\n",
            "           1       0.89      0.92      0.91      4873\n",
            "\n",
            "    accuracy                           0.87      7250\n",
            "   macro avg       0.86      0.85      0.85      7250\n",
            "weighted avg       0.87      0.87      0.87      7250\n",
            "\n"
          ]
        }
      ]
    },
    {
      "cell_type": "markdown",
      "source": [
        "**Balance the Data Using SMOTE**"
      ],
      "metadata": {
        "id": "dlna3HfA2uye"
      }
    },
    {
      "cell_type": "code",
      "source": [
        "from imblearn.over_sampling import SMOTE\n",
        "\n",
        "X = df_encoded.drop(columns='booking_status', axis=1)\n",
        "y = df_encoded['booking_status']\n",
        "\n",
        "smote = SMOTE(random_state=42)\n",
        "X_balanced, y_balanced = smote.fit_resample(X, y)\n",
        "\n",
        "print(\"Balanced Class Distribution:\")\n",
        "print(y_balanced.value_counts())"
      ],
      "metadata": {
        "colab": {
          "base_uri": "https://localhost:8080/"
        },
        "id": "NvBldNK7z0C2",
        "outputId": "49dcacda-23a9-41c4-9803-80ce8dfcb188"
      },
      "execution_count": 76,
      "outputs": [
        {
          "output_type": "stream",
          "name": "stdout",
          "text": [
            "Balanced Class Distribution:\n",
            "booking_status\n",
            "1    24366\n",
            "0    24366\n",
            "Name: count, dtype: int64\n"
          ]
        }
      ]
    },
    {
      "cell_type": "code",
      "source": [
        "status_percentage_balanced = y_balanced.value_counts(normalize=True) * 100\n",
        "\n",
        "plt.figure(figsize=(8, 5))\n",
        "ax = sns.barplot(x=status_percentage_balanced.index, y=status_percentage_balanced, palette=['green', 'red'])\n",
        "plt.title('Percentage of Cancellations and Non-Cancellations (Balanced Data)')\n",
        "plt.xlabel('Is Canceled')\n",
        "plt.ylabel('Percentage (%)')\n",
        "plt.xticks(ticks=[0, 1], labels=['Not Canceled', 'Canceled'])\n",
        "plt.yticks(ticks=range(0, 101, 10))\n",
        "\n",
        "for i, p in enumerate(status_percentage_balanced):\n",
        "    ax.text(i, p + 0.5, f'{p:.2f}%', ha='center', va='bottom')\n",
        "\n",
        "plt.show()"
      ],
      "metadata": {
        "colab": {
          "base_uri": "https://localhost:8080/",
          "height": 574
        },
        "id": "r-WdqDRSz94-",
        "outputId": "0e0004cb-97ce-4453-a751-2438c0c74296"
      },
      "execution_count": 77,
      "outputs": [
        {
          "output_type": "stream",
          "name": "stderr",
          "text": [
            "<ipython-input-77-e7c26d71addb>:4: FutureWarning: \n",
            "\n",
            "Passing `palette` without assigning `hue` is deprecated and will be removed in v0.14.0. Assign the `x` variable to `hue` and set `legend=False` for the same effect.\n",
            "\n",
            "  ax = sns.barplot(x=status_percentage_balanced.index, y=status_percentage_balanced, palette=['green', 'red'])  # Green for Not Canceled, Red for Canceled\n"
          ]
        },
        {
          "output_type": "display_data",
          "data": {
            "text/plain": [
              "<Figure size 800x500 with 1 Axes>"
            ],
            "image/png": "[encoded data removed]"
          },
          "metadata": {}
        }
      ]
    },
    {
      "cell_type": "markdown",
      "source": [
        "**Split the Balanced Data into Training and Testing  sets**"
      ],
      "metadata": {
        "id": "ioPNRzSx3A1H"
      }
    },
    {
      "cell_type": "code",
      "source": [
        "X_train, X_test, y_train, y_test = train_test_split(X_balanced, y_balanced, test_size=0.2, random_state=42, stratify=y_balanced)\n",
        "\n",
        "print(\"Training Set Distribution:\")\n",
        "print(y_train.value_counts())\n",
        "\n",
        "print(\"Testing Set Distribution:\")\n",
        "print(y_test.value_counts())"
      ],
      "metadata": {
        "colab": {
          "base_uri": "https://localhost:8080/"
        },
        "id": "Z1M93ZEjz2g_",
        "outputId": "5fe5164d-5b68-4f5a-c7ce-4a9ed35c3d8e"
      },
      "execution_count": 78,
      "outputs": [
        {
          "output_type": "stream",
          "name": "stdout",
          "text": [
            "Training Set Distribution:\n",
            "booking_status\n",
            "1    19493\n",
            "0    19492\n",
            "Name: count, dtype: int64\n",
            "Testing Set Distribution:\n",
            "booking_status\n",
            "0    4874\n",
            "1    4873\n",
            "Name: count, dtype: int64\n"
          ]
        }
      ]
    },
    {
      "cell_type": "markdown",
      "source": [
        "**Retrain and Evaluate Models on Balanced Data**"
      ],
      "metadata": {
        "id": "0m-WxioZ3IpV"
      }
    },
    {
      "cell_type": "code",
      "source": [
        "log_reg = LogisticRegression(max_iter=1000)\n",
        "log_reg.fit(X_train, y_train)\n",
        "\n",
        "y_pred_log_reg = log_reg.predict(X_test)\n",
        "\n",
        "print(\"Logistic Regression Classification Report (Balanced Data):\")\n",
        "print(classification_report(y_test, y_pred_log_reg))"
      ],
      "metadata": {
        "colab": {
          "base_uri": "https://localhost:8080/"
        },
        "id": "0feoTUPWz429",
        "outputId": "667fa98d-4222-436e-e1fa-890031fa5e79"
      },
      "execution_count": 79,
      "outputs": [
        {
          "output_type": "stream",
          "name": "stdout",
          "text": [
            "Logistic Regression Classification Report (Balanced Data):\n",
            "              precision    recall  f1-score   support\n",
            "\n",
            "           0       0.81      0.79      0.80      4874\n",
            "           1       0.79      0.81      0.80      4873\n",
            "\n",
            "    accuracy                           0.80      9747\n",
            "   macro avg       0.80      0.80      0.80      9747\n",
            "weighted avg       0.80      0.80      0.80      9747\n",
            "\n"
          ]
        },
        {
          "output_type": "stream",
          "name": "stderr",
          "text": [
            "/usr/local/lib/python3.11/dist-packages/sklearn/linear_model/_logistic.py:465: ConvergenceWarning: lbfgs failed to converge (status=1):\n",
            "STOP: TOTAL NO. of ITERATIONS REACHED LIMIT.\n",
            "\n",
            "Increase the number of iterations (max_iter) or scale the data as shown in:\n",
            "    https://scikit-learn.org/stable/modules/preprocessing.html\n",
            "Please also refer to the documentation for alternative solver options:\n",
            "    https://scikit-learn.org/stable/modules/linear_model.html#logistic-regression\n",
            "  n_iter_i = _check_optimize_result(\n"
          ]
        }
      ]
    },
    {
      "cell_type": "code",
      "source": [
        "knn = KNeighborsClassifier(n_neighbors=5)\n",
        "\n",
        "knn.fit(X_train, y_train)\n",
        "\n",
        "y_pred_knn = knn.predict(X_test)\n",
        "\n",
        "print(\"KNN Classification Report (Balanced Data):\")\n",
        "print(classification_report(y_test, y_pred_knn))"
      ],
      "metadata": {
        "colab": {
          "base_uri": "https://localhost:8080/"
        },
        "id": "RKLMq6IG0SFN",
        "outputId": "d9b8efa0-d52e-4e8c-df49-ecd7111009b7"
      },
      "execution_count": 80,
      "outputs": [
        {
          "output_type": "stream",
          "name": "stdout",
          "text": [
            "KNN Classification Report (Balanced Data):\n",
            "              precision    recall  f1-score   support\n",
            "\n",
            "           0       0.82      0.88      0.85      4874\n",
            "           1       0.87      0.81      0.84      4873\n",
            "\n",
            "    accuracy                           0.85      9747\n",
            "   macro avg       0.85      0.85      0.85      9747\n",
            "weighted avg       0.85      0.85      0.85      9747\n",
            "\n"
          ]
        }
      ]
    },
    {
      "cell_type": "code",
      "source": [
        "from xgboost import XGBClassifier\n",
        "\n",
        "xgb_clf = XGBClassifier(n_estimators=100, learning_rate=0.1, max_depth=6, random_state=42)\n",
        "\n",
        "xgb_clf.fit(X_train, y_train)\n",
        "\n",
        "y_pred_xgb = xgb_clf.predict(X_test)\n",
        "\n",
        "print(\"XGBoost Classification Report (Balanced Data):\")\n",
        "print(classification_report(y_test, y_pred_xgb))"
      ],
      "metadata": {
        "colab": {
          "base_uri": "https://localhost:8080/"
        },
        "id": "8mpIcNoK0VH1",
        "outputId": "a42bf67b-34d8-41b6-ecce-e6db236b8bf7"
      },
      "execution_count": 81,
      "outputs": [
        {
          "output_type": "stream",
          "name": "stdout",
          "text": [
            "XGBoost Classification Report (Balanced Data):\n",
            "              precision    recall  f1-score   support\n",
            "\n",
            "           0       0.91      0.88      0.89      4874\n",
            "           1       0.88      0.91      0.90      4873\n",
            "\n",
            "    accuracy                           0.89      9747\n",
            "   macro avg       0.89      0.89      0.89      9747\n",
            "weighted avg       0.89      0.89      0.89      9747\n",
            "\n"
          ]
        }
      ]
    }
  ]
}